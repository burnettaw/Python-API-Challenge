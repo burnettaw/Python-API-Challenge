{
 "cells": [
  {
   "cell_type": "markdown",
   "metadata": {},
   "source": [
    "# WeatherPy\n",
    "----\n",
    "\n",
    "#### Note\n",
    "* Instructions have been included for each segment. You do not have to follow them exactly, but they are included to help you think through the steps."
   ]
  },
  {
   "cell_type": "code",
   "execution_count": 11,
   "metadata": {
    "scrolled": true
   },
   "outputs": [],
   "source": [
    "# Dependencies and Setup\n",
    "import matplotlib.pyplot as plt\n",
    "import pandas as pd\n",
    "import numpy as np\n",
    "import requests\n",
    "import time\n",
    "from scipy.stats import linregress\n",
    "from pprint import pprint\n",
    "\n",
    "# Import API key\n",
    "from config import weather_api_key\n",
    "\n",
    "# Incorporated citipy to determine city based on latitude and longitude\n",
    "from citipy import citipy\n",
    "\n",
    "# Output File (CSV)\n",
    "output_data_file = \"output_data/cities.csv\"\n",
    "\n",
    "# Range of latitudes and longitudes\n",
    "lat_range = (-90, 90)\n",
    "lng_range = (-180, 180)"
   ]
  },
  {
   "cell_type": "markdown",
   "metadata": {},
   "source": [
    "## Generate Cities List"
   ]
  },
  {
   "cell_type": "code",
   "execution_count": 12,
   "metadata": {},
   "outputs": [
    {
     "data": {
      "text/plain": [
       "624"
      ]
     },
     "execution_count": 12,
     "metadata": {},
     "output_type": "execute_result"
    }
   ],
   "source": [
    "# List for holding lat_lngs and cities\n",
    "lat_lngs = []\n",
    "cities = []\n",
    "\n",
    "# Create a set of random lat and lng combinations\n",
    "lats = np.random.uniform(lat_range[0], lat_range[1], size=1500)\n",
    "lngs = np.random.uniform(lng_range[0], lng_range[1], size=1500)\n",
    "lat_lngs = zip(lats, lngs)\n",
    "\n",
    "# Identify nearest city for each lat, lng combination\n",
    "for lat_lng in lat_lngs:\n",
    "    city = citipy.nearest_city(lat_lng[0], lat_lng[1]).city_name\n",
    "    \n",
    "    # If the city is unique, then add it to a our cities list\n",
    "    if city not in cities:\n",
    "        cities.append(city)\n",
    "\n",
    "# Print the city count to confirm sufficient count\n",
    "len(cities)"
   ]
  },
  {
   "cell_type": "markdown",
   "metadata": {},
   "source": [
    "### Perform API Calls\n",
    "* Perform a weather check on each city using a series of successive API calls.\n",
    "* Include a print log of each city as it's being processed (with the city number and city name).\n"
   ]
  },
  {
   "cell_type": "code",
   "execution_count": 13,
   "metadata": {
    "scrolled": true
   },
   "outputs": [
    {
     "name": "stdout",
     "output_type": "stream",
     "text": [
      "City not found\n",
      "Counter  2 Hermanus\n",
      "Counter  3 Chengde\n",
      "Counter  4 Sühbaatar\n",
      "Counter  5 Busselton\n",
      "Counter  6 Tommot\n",
      "Counter  7 Sanok\n",
      "Counter  8 Broken Hill\n",
      "Counter  9 Ushuaia\n",
      "Counter  10 Qaanaaq\n"
     ]
    }
   ],
   "source": [
    "city_info = []\n",
    "\n",
    "url = \"http://api.openweathermap.org/data/2.5/weather?\"\n",
    "counter = 0\n",
    "for city in cities[:10]:\n",
    "   \n",
    "    # Build query URL\n",
    "    query_url = url + \"appid=\" + weather_api_key + \"&q=\" + city\n",
    "    response = requests.get(query_url).json()\n",
    "    \n",
    "    counter=counter+1\n",
    "    #print(query_url)\n",
    "    \n",
    "    try:\n",
    "        city_num = counter\n",
    "        city = response[\"name\"]\n",
    "        country = response[\"sys\"][\"country\"]\n",
    "        lat = response[\"coord\"][\"lat\"]\n",
    "        lng = response[\"coord\"][\"lon\"]\n",
    "        date = response[\"dt\"]\n",
    "        maxtemp = response[\"main\"][\"temp_max\"]\n",
    "        windspeed = response[\"wind\"][\"speed\"]\n",
    "        humidity = response[\"main\"][\"humidity\"]\n",
    "        cloudiness = response[\"clouds\"][\"all\"]\n",
    "\n",
    "        city_info.append([city_num, city, country, date, humidity, cloudiness, lat, lng, maxtemp, windspeed])\n",
    "        print(f\"Counter  {counter} {city}\")\n",
    "        time.sleep(.2)\n",
    "    except:\n",
    "        print(\"City not found\")\n",
    "\n"
   ]
  },
  {
   "cell_type": "markdown",
   "metadata": {},
   "source": [
    "### Convert Raw Data to DataFrame\n",
    "* Export the city data into a .csv.\n",
    "* Display the DataFrame"
   ]
  },
  {
   "cell_type": "code",
   "execution_count": 14,
   "metadata": {},
   "outputs": [
    {
     "data": {
      "text/plain": [
       "[[2, 'Hermanus', 'ZA', 1619019606, 77, 69, -34.4187, 19.2345, 293.71, 2.68],\n",
       " [3, 'Chengde', 'CN', 1619019606, 43, 97, 40.9725, 117.9361, 284.92, 3.25],\n",
       " [4, 'Sühbaatar', 'MN', 1619019607, 57, 94, 50.2314, 106.2078, 271.69, 7.39],\n",
       " [5, 'Busselton', 'AU', 1619019607, 92, 63, -33.65, 115.3333, 286.48, 4.69],\n",
       " [6, 'Tommot', 'RU', 1619019608, 96, 100, 58.9564, 126.2925, 271.36, 3.58],\n",
       " [7, 'Sanok', 'PL', 1619019608, 100, 96, 49.5557, 22.2056, 282.59, 4.92],\n",
       " [8, 'Broken Hill', 'AU', 1619019609, 46, 90, -31.95, 141.4333, 284.15, 3.89],\n",
       " [9, 'Ushuaia', 'AR', 1619019609, 37, 0, -54.8, -68.3, 284.15, 1.54],\n",
       " [10, 'Qaanaaq', 'GL', 1619019595, 69, 100, 77.484, -69.3632, 261.99, 4.23]]"
      ]
     },
     "execution_count": 14,
     "metadata": {},
     "output_type": "execute_result"
    }
   ],
   "source": [
    "city_info"
   ]
  },
  {
   "cell_type": "code",
   "execution_count": 15,
   "metadata": {},
   "outputs": [
    {
     "data": {
      "text/html": [
       "<div>\n",
       "<style scoped>\n",
       "    .dataframe tbody tr th:only-of-type {\n",
       "        vertical-align: middle;\n",
       "    }\n",
       "\n",
       "    .dataframe tbody tr th {\n",
       "        vertical-align: top;\n",
       "    }\n",
       "\n",
       "    .dataframe thead th {\n",
       "        text-align: right;\n",
       "    }\n",
       "</style>\n",
       "<table border=\"1\" class=\"dataframe\">\n",
       "  <thead>\n",
       "    <tr style=\"text-align: right;\">\n",
       "      <th></th>\n",
       "      <th>city_num</th>\n",
       "      <th>city</th>\n",
       "      <th>country</th>\n",
       "      <th>date</th>\n",
       "      <th>humidity</th>\n",
       "      <th>cloudiness</th>\n",
       "      <th>lat</th>\n",
       "      <th>long</th>\n",
       "      <th>maxtemp</th>\n",
       "      <th>windspeed</th>\n",
       "    </tr>\n",
       "  </thead>\n",
       "  <tbody>\n",
       "    <tr>\n",
       "      <th>0</th>\n",
       "      <td>2</td>\n",
       "      <td>Hermanus</td>\n",
       "      <td>ZA</td>\n",
       "      <td>1619019606</td>\n",
       "      <td>77</td>\n",
       "      <td>69</td>\n",
       "      <td>-34.4187</td>\n",
       "      <td>19.2345</td>\n",
       "      <td>293.71</td>\n",
       "      <td>2.68</td>\n",
       "    </tr>\n",
       "    <tr>\n",
       "      <th>1</th>\n",
       "      <td>3</td>\n",
       "      <td>Chengde</td>\n",
       "      <td>CN</td>\n",
       "      <td>1619019606</td>\n",
       "      <td>43</td>\n",
       "      <td>97</td>\n",
       "      <td>40.9725</td>\n",
       "      <td>117.9361</td>\n",
       "      <td>284.92</td>\n",
       "      <td>3.25</td>\n",
       "    </tr>\n",
       "    <tr>\n",
       "      <th>2</th>\n",
       "      <td>4</td>\n",
       "      <td>Sühbaatar</td>\n",
       "      <td>MN</td>\n",
       "      <td>1619019607</td>\n",
       "      <td>57</td>\n",
       "      <td>94</td>\n",
       "      <td>50.2314</td>\n",
       "      <td>106.2078</td>\n",
       "      <td>271.69</td>\n",
       "      <td>7.39</td>\n",
       "    </tr>\n",
       "    <tr>\n",
       "      <th>3</th>\n",
       "      <td>5</td>\n",
       "      <td>Busselton</td>\n",
       "      <td>AU</td>\n",
       "      <td>1619019607</td>\n",
       "      <td>92</td>\n",
       "      <td>63</td>\n",
       "      <td>-33.6500</td>\n",
       "      <td>115.3333</td>\n",
       "      <td>286.48</td>\n",
       "      <td>4.69</td>\n",
       "    </tr>\n",
       "    <tr>\n",
       "      <th>4</th>\n",
       "      <td>6</td>\n",
       "      <td>Tommot</td>\n",
       "      <td>RU</td>\n",
       "      <td>1619019608</td>\n",
       "      <td>96</td>\n",
       "      <td>100</td>\n",
       "      <td>58.9564</td>\n",
       "      <td>126.2925</td>\n",
       "      <td>271.36</td>\n",
       "      <td>3.58</td>\n",
       "    </tr>\n",
       "    <tr>\n",
       "      <th>5</th>\n",
       "      <td>7</td>\n",
       "      <td>Sanok</td>\n",
       "      <td>PL</td>\n",
       "      <td>1619019608</td>\n",
       "      <td>100</td>\n",
       "      <td>96</td>\n",
       "      <td>49.5557</td>\n",
       "      <td>22.2056</td>\n",
       "      <td>282.59</td>\n",
       "      <td>4.92</td>\n",
       "    </tr>\n",
       "    <tr>\n",
       "      <th>6</th>\n",
       "      <td>8</td>\n",
       "      <td>Broken Hill</td>\n",
       "      <td>AU</td>\n",
       "      <td>1619019609</td>\n",
       "      <td>46</td>\n",
       "      <td>90</td>\n",
       "      <td>-31.9500</td>\n",
       "      <td>141.4333</td>\n",
       "      <td>284.15</td>\n",
       "      <td>3.89</td>\n",
       "    </tr>\n",
       "    <tr>\n",
       "      <th>7</th>\n",
       "      <td>9</td>\n",
       "      <td>Ushuaia</td>\n",
       "      <td>AR</td>\n",
       "      <td>1619019609</td>\n",
       "      <td>37</td>\n",
       "      <td>0</td>\n",
       "      <td>-54.8000</td>\n",
       "      <td>-68.3000</td>\n",
       "      <td>284.15</td>\n",
       "      <td>1.54</td>\n",
       "    </tr>\n",
       "    <tr>\n",
       "      <th>8</th>\n",
       "      <td>10</td>\n",
       "      <td>Qaanaaq</td>\n",
       "      <td>GL</td>\n",
       "      <td>1619019595</td>\n",
       "      <td>69</td>\n",
       "      <td>100</td>\n",
       "      <td>77.4840</td>\n",
       "      <td>-69.3632</td>\n",
       "      <td>261.99</td>\n",
       "      <td>4.23</td>\n",
       "    </tr>\n",
       "  </tbody>\n",
       "</table>\n",
       "</div>"
      ],
      "text/plain": [
       "   city_num         city country        date  humidity  cloudiness      lat  \\\n",
       "0         2     Hermanus      ZA  1619019606        77          69 -34.4187   \n",
       "1         3      Chengde      CN  1619019606        43          97  40.9725   \n",
       "2         4    Sühbaatar      MN  1619019607        57          94  50.2314   \n",
       "3         5    Busselton      AU  1619019607        92          63 -33.6500   \n",
       "4         6       Tommot      RU  1619019608        96         100  58.9564   \n",
       "5         7        Sanok      PL  1619019608       100          96  49.5557   \n",
       "6         8  Broken Hill      AU  1619019609        46          90 -31.9500   \n",
       "7         9      Ushuaia      AR  1619019609        37           0 -54.8000   \n",
       "8        10      Qaanaaq      GL  1619019595        69         100  77.4840   \n",
       "\n",
       "       long  maxtemp  windspeed  \n",
       "0   19.2345   293.71       2.68  \n",
       "1  117.9361   284.92       3.25  \n",
       "2  106.2078   271.69       7.39  \n",
       "3  115.3333   286.48       4.69  \n",
       "4  126.2925   271.36       3.58  \n",
       "5   22.2056   282.59       4.92  \n",
       "6  141.4333   284.15       3.89  \n",
       "7  -68.3000   284.15       1.54  \n",
       "8  -69.3632   261.99       4.23  "
      ]
     },
     "execution_count": 15,
     "metadata": {},
     "output_type": "execute_result"
    }
   ],
   "source": [
    "city_data_df = pd.DataFrame(city_info, columns=[\"city_num\",\"city\", \"country\", \"date\", \"humidity\", \"cloudiness\",\"lat\", \"long\", \"maxtemp\", \"windspeed\"])\n",
    "city_data_df"
   ]
  },
  {
   "cell_type": "code",
   "execution_count": null,
   "metadata": {},
   "outputs": [],
   "source": []
  },
  {
   "cell_type": "markdown",
   "metadata": {},
   "source": [
    "## Inspect the data and remove the cities where the humidity > 100%.\n",
    "----\n",
    "Skip this step if there are no cities that have humidity > 100%. "
   ]
  },
  {
   "cell_type": "code",
   "execution_count": 16,
   "metadata": {},
   "outputs": [],
   "source": [
    "#  Get the indices of cities that have humidity over 100%.\n",
    "# none found"
   ]
  },
  {
   "cell_type": "code",
   "execution_count": 17,
   "metadata": {},
   "outputs": [],
   "source": [
    "# Make a new DataFrame equal to the city data to drop all humidity outliers by index.\n",
    "# Passing \"inplace=False\" will make a copy of the city_data DataFrame, which we call \"clean_city_data\".\n"
   ]
  },
  {
   "cell_type": "markdown",
   "metadata": {},
   "source": [
    "## Plotting the Data\n",
    "* Use proper labeling of the plots using plot titles (including date of analysis) and axes labels.\n",
    "* Save the plotted figures as .pngs."
   ]
  },
  {
   "cell_type": "code",
   "execution_count": 18,
   "metadata": {
    "scrolled": false
   },
   "outputs": [
    {
     "data": {
      "image/png": "[encoded data removed]",
      "text/plain": [
       "<Figure size 432x288 with 1 Axes>"
      ]
     },
     "metadata": {
      "needs_background": "light"
     },
     "output_type": "display_data"
    }
   ],
   "source": [
    "clean_city_data_df = city_data_df.copy()\n",
    "# Generate a scatter plot of city data\n",
    "x_values = clean_city_data_df['city_num']\n",
    "y_values = clean_city_data_df['humidity']\n",
    "\n",
    "plt.scatter( x_values, y_values, marker=\"*\", facecolors=\"red\", edgecolors=\"black\")\n",
    "plt.xlabel('city') \n",
    "plt.ylabel('humidity')\n",
    "plt.title( \"City Humidity\")\n",
    "plt.savefig(\"./images/city_humidity.png\")\n",
    "plt.show()\n"
   ]
  },
  {
   "cell_type": "markdown",
   "metadata": {},
   "source": [
    "## Latitude vs. Temperature Plot"
   ]
  },
  {
   "cell_type": "code",
   "execution_count": 21,
   "metadata": {
    "scrolled": true
   },
   "outputs": [
    {
     "data": {
      "image/png": "[encoded data removed]",
      "text/plain": [
       "<Figure size 432x288 with 1 Axes>"
      ]
     },
     "metadata": {
      "needs_background": "light"
     },
     "output_type": "display_data"
    }
   ],
   "source": [
    "\n",
    "# Generate a scatter plot of city data\n",
    "x_values = clean_city_data_df['lat']\n",
    "y_values = clean_city_data_df['maxtemp']\n",
    "\n",
    "plt.scatter(x_values, y_values, marker=\"o\", facecolors=\"red\", edgecolors=\"black\")\n",
    "plt.xlabel('Latitude')\n",
    "plt.ylabel('max temperature')\n",
    "plt.savefig(\"./images/temp_lat.png\")\n",
    "plt.show()\n"
   ]
  },
  {
   "cell_type": "markdown",
   "metadata": {},
   "source": [
    "## Latitude vs. Humidity Plot"
   ]
  },
  {
   "cell_type": "code",
   "execution_count": 22,
   "metadata": {},
   "outputs": [
    {
     "data": {
      "image/png": "[encoded data removed]",
      "text/plain": [
       "<Figure size 432x288 with 1 Axes>"
      ]
     },
     "metadata": {
      "needs_background": "light"
     },
     "output_type": "display_data"
    }
   ],
   "source": [
    "\n",
    "# Generate a scatter plot of city data\n",
    "x_values = clean_city_data_df['lat']\n",
    "y_values = clean_city_data_df['humidity']\n",
    "\n",
    "plt.scatter(x_values, y_values)\n",
    "plt.xlabel('lat')\n",
    "plt.ylabel('humidity')\n",
    "plt.savefig(\"./images/humidity_lat.png\")\n",
    "plt.show()\n"
   ]
  },
  {
   "cell_type": "markdown",
   "metadata": {},
   "source": [
    "## Latitude vs. Cloudiness Plot"
   ]
  },
  {
   "cell_type": "code",
   "execution_count": 23,
   "metadata": {},
   "outputs": [
    {
     "data": {
      "image/png": "[encoded data removed]",
      "text/plain": [
       "<Figure size 432x288 with 1 Axes>"
      ]
     },
     "metadata": {
      "needs_background": "light"
     },
     "output_type": "display_data"
    }
   ],
   "source": [
    "\n",
    "# Generate a scatter plot of city data\n",
    "x_values = clean_city_data_df['lat']\n",
    "y_values = clean_city_data_df['cloudiness']\n",
    "\n",
    "plt.scatter(x_values, y_values)\n",
    "plt.xlabel('lat')\n",
    "plt.ylabel('cloudiness')\n",
    "plt.savefig(\"./images/cloud_lat.png\")\n",
    "\n",
    "plt.show()\n"
   ]
  },
  {
   "cell_type": "markdown",
   "metadata": {},
   "source": [
    "## Latitude vs. Wind Speed Plot"
   ]
  },
  {
   "cell_type": "code",
   "execution_count": 24,
   "metadata": {},
   "outputs": [
    {
     "data": {
      "image/png": "[encoded data removed]",
      "text/plain": [
       "<Figure size 432x288 with 1 Axes>"
      ]
     },
     "metadata": {
      "needs_background": "light"
     },
     "output_type": "display_data"
    }
   ],
   "source": [
    "\n",
    "# Generate a scatter plot of city data\n",
    "x_values = clean_city_data_df['lat']\n",
    "y_values = clean_city_data_df['windspeed']\n",
    "\n",
    "plt.scatter(x_values, y_values)\n",
    "plt.xlabel('lat')\n",
    "plt.ylabel('windspeed')\n",
    "plt.savefig(\"./images/windspeed_lat.png\")\n",
    "plt.show()\n"
   ]
  },
  {
   "cell_type": "markdown",
   "metadata": {},
   "source": [
    "## Linear Regression"
   ]
  },
  {
   "cell_type": "code",
   "execution_count": 25,
   "metadata": {},
   "outputs": [
    {
     "data": {
      "image/png": "[encoded data removed]",
      "text/plain": [
       "<Figure size 432x288 with 1 Axes>"
      ]
     },
     "metadata": {
      "needs_background": "light"
     },
     "output_type": "display_data"
    }
   ],
   "source": [
    "# plt.figure(figsize=(20,3))\n",
    "# Generate a scatter plot of city data\n",
    "\n",
    "x_values = clean_city_data_df['lat']\n",
    "y_values = clean_city_data_df['windspeed']\n",
    "\n",
    "(slope, intercept, rvalue, pvalue, stderr) = linregress(x_values, y_values)\n",
    "regress_values = x_values * slope + intercept\n",
    "line_eq = \"y = \" + str(round(slope,2)) + \"x + \" + str(round(intercept,2))\n",
    "plt.scatter(x_values, y_values)\n",
    "plt.plot(x_values,regress_values,\"r-\")\n",
    "plt.annotate(line_eq,(6,10),fontsize=15,color=\"red\")\n",
    "plt.xlabel('latitude')\n",
    "plt.ylabel('windspeed')\n",
    "plt.savefig(\"./images/windspeed_lat_linear.png\")\n",
    "plt.show()\n"
   ]
  },
  {
   "cell_type": "markdown",
   "metadata": {},
   "source": [
    "####  Northern Hemisphere - Max Temp vs. Latitude Linear Regression"
   ]
  },
  {
   "cell_type": "code",
   "execution_count": 28,
   "metadata": {
    "scrolled": true
   },
   "outputs": [
    {
     "data": {
      "image/png": "[encoded data removed]",
      "text/plain": [
       "<Figure size 432x288 with 1 Axes>"
      ]
     },
     "metadata": {
      "needs_background": "light"
     },
     "output_type": "display_data"
    }
   ],
   "source": [
    "x_values = clean_city_data_df['lat']\n",
    "for x in x_values:\n",
    "    if x >= 0:\n",
    "        y_values = clean_city_data_df['maxtemp']\n",
    "\n",
    "        (slope, intercept, rvalue, pvalue, stderr) = linregress(x_values, y_values)\n",
    "        regress_values = x_values * slope + intercept\n",
    "        line_eq = \"y = \" + str(round(slope,2)) + \"x + \" + str(round(intercept,2))\n",
    "        plt.scatter(x_values, y_values)\n",
    "        plt.plot(x_values,regress_values,\"r-\")\n",
    "        plt.annotate(line_eq,(6,10),fontsize=15,color=\"red\")\n",
    "        plt.xlabel('latitude')\n",
    "       \n",
    "\n",
    "plt.ylabel('Max Temperature')\n",
    "plt.title(\"Northern Hemisphere - Max Temp vs. Latitude Linear Regression\")\n",
    "plt.savefig(\"./images/maxtemp_lat_linear_N.png\")\n",
    "plt.show()"
   ]
  },
  {
   "cell_type": "markdown",
   "metadata": {},
   "source": [
    "####  Southern Hemisphere - Max Temp vs. Latitude Linear Regression"
   ]
  },
  {
   "cell_type": "code",
   "execution_count": 30,
   "metadata": {},
   "outputs": [
    {
     "data": {
      "image/png": "[encoded data removed]",
      "text/plain": [
       "<Figure size 432x288 with 1 Axes>"
      ]
     },
     "metadata": {
      "needs_background": "light"
     },
     "output_type": "display_data"
    }
   ],
   "source": [
    "x_values = clean_city_data_df['lat']\n",
    "y_values = clean_city_data_df['maxtemp']\n",
    "\n",
    "# south_x = []\n",
    "# south_y = []\n",
    "\n",
    "#print(df[df[‘Name’]==’Donna’].index.values)\n",
    "#index = 0\n",
    "for x in x_values:\n",
    "    if x < 0:\n",
    "        #south_x.append(x)\n",
    "        #find the location of x and print y value at that location\n",
    "        #y = clean_city_data[clean_city_data['lat']==x].index.values \n",
    "        #south_y.append(y_values_1[y])\n",
    "\n",
    "        # x_values = south_x\n",
    "        # y_values = south_y\n",
    "\n",
    "        (slope, intercept, rvalue, pvalue, stderr) = linregress(x_values, y_values)\n",
    "        regress_values = x_values * slope + intercept\n",
    "        line_eq = \"y = \" + str(round(slope,2)) + \"x + \" + str(round(intercept,2))\n",
    "        plt.scatter(x_values, y_values)\n",
    "        plt.plot(x_values,regress_values,\"r-\")\n",
    "        plt.annotate(line_eq,(6,10),fontsize=15,color=\"red\")\n",
    "        \n",
    "plt.xlabel('latitude')\n",
    "\n",
    "plt.ylabel('Max Temp')\n",
    "plt.title(\"Southern Hemisphere - Max Temp vs. Latitude Linear Regression\")\n",
    "plt.savefig(\"./images/maxtemp_lat_linear_S.png\")\n",
    "plt.show()"
   ]
  },
  {
   "cell_type": "markdown",
   "metadata": {},
   "source": [
    "####  Northern Hemisphere - Humidity (%) vs. Latitude Linear Regression"
   ]
  },
  {
   "cell_type": "code",
   "execution_count": 32,
   "metadata": {},
   "outputs": [
    {
     "data": {
      "image/png": "[encoded data removed]",
      "text/plain": [
       "<Figure size 432x288 with 1 Axes>"
      ]
     },
     "metadata": {
      "needs_background": "light"
     },
     "output_type": "display_data"
    }
   ],
   "source": [
    "x_values = clean_city_data_df['lat']\n",
    "x_values\n",
    "\n",
    "for x in x_values:\n",
    "    if x >= 0:\n",
    "        y_values = clean_city_data_df['humidity']\n",
    "\n",
    "        (slope, intercept, rvalue, pvalue, stderr) = linregress(x_values, y_values)\n",
    "        regress_values = x_values * slope + intercept\n",
    "        line_eq = \"y = \" + str(round(slope,2)) + \"x + \" + str(round(intercept,2))\n",
    "        plt.scatter(x_values, y_values)\n",
    "        plt.plot(x_values,regress_values,\"r-\")\n",
    "        plt.annotate(line_eq,(6,10),fontsize=15,color=\"red\")\n",
    "        plt.xlabel('latitude')\n",
    "\n",
    "plt.ylabel('lat')\n",
    "plt.title(\"Northern Hemisphere - Max Temp vs. Latitude Linear Regression\")\n",
    "plt.savefig(\"./images/humidity_lat_linear_N.png\")\n",
    "plt.show()\n"
   ]
  },
  {
   "cell_type": "markdown",
   "metadata": {},
   "source": [
    "####  Southern Hemisphere - Humidity (%) vs. Latitude Linear Regression"
   ]
  },
  {
   "cell_type": "code",
   "execution_count": 36,
   "metadata": {},
   "outputs": [
    {
     "data": {
      "image/png": "[encoded data removed]",
      "text/plain": [
       "<Figure size 432x288 with 1 Axes>"
      ]
     },
     "metadata": {
      "needs_background": "light"
     },
     "output_type": "display_data"
    }
   ],
   "source": [
    "x_values = clean_city_data_df['lat']\n",
    "x_values\n",
    "\n",
    "for x in x_values:\n",
    "    if x < 0:\n",
    "        y_values = clean_city_data_df['humidity']\n",
    "\n",
    "        (slope, intercept, rvalue, pvalue, stderr) = linregress(x_values, y_values)\n",
    "        regress_values = x_values * slope + intercept\n",
    "        line_eq = \"y = \" + str(round(slope,2)) + \"x + \" + str(round(intercept,2))\n",
    "        plt.scatter(x_values, y_values)\n",
    "        plt.plot(x_values,regress_values,\"r-\")\n",
    "        plt.annotate(line_eq,(6,10),fontsize=15,color=\"red\")\n",
    "        plt.xlabel('latitude')\n",
    "\n",
    "plt.ylabel('lat')\n",
    "plt.title(\"Northern Hemisphere - Max Temp vs. Latitude Linear Regression\")\n",
    "plt.savefig(\"./images/maxtemp_lat_linear_N.png\")\n",
    "plt.show()"
   ]
  },
  {
   "cell_type": "markdown",
   "metadata": {},
   "source": [
    "####  Northern Hemisphere - Cloudiness (%) vs. Latitude Linear Regression"
   ]
  },
  {
   "cell_type": "code",
   "execution_count": null,
   "metadata": {},
   "outputs": [],
   "source": [
    "x_values = clean_city_data_df['lat']\n",
    "x_values\n",
    "\n",
    "for x in x_values:\n",
    "    if x >= 0:\n",
    "        y_values = clean_city_data_df['cloudiness']\n",
    "\n",
    "        (slope, intercept, rvalue, pvalue, stderr) = linregress(x_values, y_values)\n",
    "        regress_values = x_values * slope + intercept\n",
    "        line_eq = \"y = \" + str(round(slope,2)) + \"x + \" + str(round(intercept,2))\n",
    "        plt.scatter(x_values, y_values)\n",
    "        plt.plot(x_values,regress_values,\"r-\")\n",
    "        plt.annotate(line_eq,(6,10),fontsize=15,color=\"red\")\n",
    "        plt.xlabel('latitude')\n",
    "\n",
    "plt.ylabel('lat')\n",
    "plt.title(\"Northern Hemisphere - Cloudiness vs. Latitude Linear Regression\")\n",
    "plt.savefig(\"./images/maxtemp_lat_linear_N.png\")\n",
    "plt.show()\n"
   ]
  },
  {
   "cell_type": "markdown",
   "metadata": {},
   "source": [
    "####  Southern Hemisphere - Cloudiness (%) vs. Latitude Linear Regression"
   ]
  },
  {
   "cell_type": "code",
   "execution_count": 40,
   "metadata": {},
   "outputs": [
    {
     "data": {
      "image/png": "[encoded data removed]",
      "text/plain": [
       "<Figure size 432x288 with 1 Axes>"
      ]
     },
     "metadata": {
      "needs_background": "light"
     },
     "output_type": "display_data"
    }
   ],
   "source": [
    "x_values = clean_city_data_df['lat']\n",
    "x_values\n",
    "\n",
    "for x in x_values:\n",
    "    if x < 0:\n",
    "        y_values = clean_city_data_df['cloudiness']\n",
    "\n",
    "        (slope, intercept, rvalue, pvalue, stderr) = linregress(x_values, y_values)\n",
    "        regress_values = x_values * slope + intercept\n",
    "        line_eq = \"y = \" + str(round(slope,2)) + \"x + \" + str(round(intercept,2))\n",
    "        plt.scatter(x_values, y_values)\n",
    "        plt.plot(x_values,regress_values,\"r-\")\n",
    "        plt.annotate(line_eq,(6,10),fontsize=15,color=\"red\")\n",
    "        plt.xlabel('latitude')\n",
    "\n",
    "plt.ylabel('lat')\n",
    "plt.title(\"Southern Hemisphere - Cloudiness vs. Latitude Linear Regression\")\n",
    "plt.savefig(\"./images/cloudiness_lat_linear_S.png\")\n",
    "plt.show()\n"
   ]
  },
  {
   "cell_type": "markdown",
   "metadata": {},
   "source": [
    "####  Northern Hemisphere - Wind Speed (mph) vs. Latitude Linear Regression"
   ]
  },
  {
   "cell_type": "code",
   "execution_count": 41,
   "metadata": {},
   "outputs": [
    {
     "data": {
      "image/png": "[encoded data removed]",
      "text/plain": [
       "<Figure size 432x288 with 1 Axes>"
      ]
     },
     "metadata": {
      "needs_background": "light"
     },
     "output_type": "display_data"
    }
   ],
   "source": [
    "x_values = clean_city_data_df['lat']\n",
    "x_values\n",
    "\n",
    "for x in x_values:\n",
    "    if x >= 0:\n",
    "        y_values = clean_city_data_df['windspeed']\n",
    "\n",
    "        (slope, intercept, rvalue, pvalue, stderr) = linregress(x_values, y_values)\n",
    "        regress_values = x_values * slope + intercept\n",
    "        line_eq = \"y = \" + str(round(slope,2)) + \"x + \" + str(round(intercept,2))\n",
    "        plt.scatter(x_values, y_values)\n",
    "        plt.plot(x_values,regress_values,\"r-\")\n",
    "        plt.annotate(line_eq,(6,10),fontsize=15,color=\"red\")\n",
    "        plt.xlabel('latitude')\n",
    "\n",
    "plt.ylabel('lat')\n",
    "plt.title(\"Northern Hemisphere - Wind Speed vs. Latitude Linear Regression\")\n",
    "plt.savefig(\"./images/windspeed_lat_linear_N.png\")\n",
    "plt.show()\n"
   ]
  },
  {
   "cell_type": "markdown",
   "metadata": {},
   "source": [
    "####  Southern Hemisphere - Wind Speed (mph) vs. Latitude Linear Regression"
   ]
  },
  {
   "cell_type": "code",
   "execution_count": 43,
   "metadata": {},
   "outputs": [
    {
     "data": {
      "image/png": "[encoded data removed]",
      "text/plain": [
       "<Figure size 432x288 with 1 Axes>"
      ]
     },
     "metadata": {
      "needs_background": "light"
     },
     "output_type": "display_data"
    }
   ],
   "source": [
    "x_values = clean_city_data_df['lat']\n",
    "\n",
    "\n",
    "for x in x_values:\n",
    "    if x < 0:\n",
    "        y_values = clean_city_data_df['windspeed']\n",
    "\n",
    "        (slope, intercept, rvalue, pvalue, stderr) = linregress(x_values, y_values)\n",
    "        regress_values = x_values * slope + intercept\n",
    "        line_eq = \"y = \" + str(round(slope,2)) + \"x + \" + str(round(intercept,2))\n",
    "        plt.scatter(x_values, y_values)\n",
    "        plt.plot(x_values,regress_values,\"r-\")\n",
    "        plt.annotate(line_eq,(6,10),fontsize=15,color=\"red\")\n",
    "        plt.xlabel('latitude')\n",
    "\n",
    "plt.ylabel('lat')\n",
    "plt.title(\"Southern Hemisphere - Max Temp vs. Latitude Linear Regression\")\n",
    "plt.savefig(\"./images/windspeed_lat_linear_N.png\")\n",
    "plt.show()\n"
   ]
  },
  {
   "cell_type": "code",
   "execution_count": null,
   "metadata": {},
   "outputs": [],
   "source": []
  }
 ],
 "metadata": {
  "anaconda-cloud": {},
  "kernel_info": {
   "name": "python3"
  },
  "kernelspec": {
   "display_name": "Python 3",
   "language": "python",
   "name": "python3"
  },
  "language_info": {
   "codemirror_mode": {
    "name": "ipython",
    "version": 3
   },
   "file_extension": ".py",
   "mimetype": "text/x-python",
   "name": "python",
   "nbconvert_exporter": "python",
   "pygments_lexer": "ipython3",
   "version": "3.6.10"
  },
  "latex_envs": {
   "LaTeX_envs_menu_present": true,
   "autoclose": false,
   "autocomplete": true,
   "bibliofile": "biblio.bib",
   "cite_by": "apalike",
   "current_citInitial": 1,
   "eqLabelWithNumbers": true,
   "eqNumInitial": 1,
   "hotkeys": {
    "equation": "Ctrl-E",
    "itemize": "Ctrl-I"
   },
   "labels_anchors": false,
   "latex_user_defs": false,
   "report_style_numbering": false,
   "user_envs_cfg": false
  },
  "nteract": {
   "version": "0.12.3"
  }
 },
 "nbformat": 4,
 "nbformat_minor": 2
}
