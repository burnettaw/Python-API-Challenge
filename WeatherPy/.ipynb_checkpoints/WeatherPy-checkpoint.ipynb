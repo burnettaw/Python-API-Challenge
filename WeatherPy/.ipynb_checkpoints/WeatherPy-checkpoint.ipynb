{
 "cells": [
  {
   "cell_type": "markdown",
   "metadata": {},
   "source": [
    "# WeatherPy\n",
    "----\n",
    "\n",
    "#### Note\n",
    "* Instructions have been included for each segment. You do not have to follow them exactly, but they are included to help you think through the steps."
   ]
  },
  {
   "cell_type": "code",
   "execution_count": 4,
   "metadata": {
    "scrolled": true
   },
   "outputs": [],
   "source": [
    "# Dependencies and Setup\n",
    "import matplotlib.pyplot as plt\n",
    "import pandas as pd\n",
    "import numpy as np\n",
    "import requests\n",
    "import time\n",
    "from scipy.stats import linregress\n",
    "from pprint import pprint\n",
    "\n",
    "# Import API key\n",
    "from config import weather_api_key\n",
    "\n",
    "# Incorporated citipy to determine city based on latitude and longitude\n",
    "from citipy import citipy\n",
    "\n",
    "# Range of latitudes and longitudes\n",
    "lat_range = (-90, 90)\n",
    "lng_range = (-180, 180)"
   ]
  },
  {
   "cell_type": "markdown",
   "metadata": {},
   "source": [
    "## Generate Cities List"
   ]
  },
  {
   "cell_type": "code",
   "execution_count": 5,
   "metadata": {},
   "outputs": [
    {
     "data": {
      "text/plain": [
       "622"
      ]
     },
     "execution_count": 5,
     "metadata": {},
     "output_type": "execute_result"
    }
   ],
   "source": [
    "# List for holding lat_lngs and cities\n",
    "lat_lngs = []\n",
    "cities = []\n",
    "\n",
    "# Create a set of random lat and lng combinations\n",
    "lats = np.random.uniform(lat_range[0], lat_range[1], size=1500)\n",
    "lngs = np.random.uniform(lng_range[0], lng_range[1], size=1500)\n",
    "lat_lngs = zip(lats, lngs) \n",
    "\n",
    "# Identify nearest city for each lat, lng combination\n",
    "for lat_lng in lat_lngs:\n",
    "    city = citipy.nearest_city(lat_lng[0], lat_lng[1]).city_name\n",
    "    \n",
    "    # If the city is unique, then add it to a our cities list\n",
    "    if city not in cities:\n",
    "        cities.append(city)\n",
    "\n",
    "# Print the city count to confirm sufficient count\n",
    "len(cities)"
   ]
  },
  {
   "cell_type": "markdown",
   "metadata": {},
   "source": [
    "### Perform API Calls\n",
    "* Perform a weather check on each city using a series of successive API calls.\n",
    "* Include a print log of each city as it's being processed (with the city number and city name).\n"
   ]
  },
  {
   "cell_type": "code",
   "execution_count": 26,
   "metadata": {
    "scrolled": true
   },
   "outputs": [
    {
     "name": "stdout",
     "output_type": "stream",
     "text": [
      "Counter  1 São João da Barra\n",
      "Counter  2 New Norfolk\n",
      "Counter  3 Dhenkānāl\n",
      "Counter  4 Ormara\n",
      "Counter  5 Buta\n",
      "Counter  6 Barceloneta\n",
      "City not found\n",
      "Counter  8 Thompson\n",
      "Counter  9 Bredasdorp\n",
      "Counter  10 Nizwá\n",
      "Counter  11 Nikolskoye\n",
      "Counter  12 Rikitea\n",
      "City not found\n",
      "Counter  14 Punta Arenas\n",
      "Counter  15 Bluff\n",
      "Counter  16 Kapaa\n",
      "Counter  17 Qandala\n",
      "Counter  18 Fukuechō\n",
      "Counter  19 Nhulunbuy\n",
      "Counter  20 Tuktoyaktuk\n",
      "Counter  21 Khatanga\n",
      "Counter  22 Mitsamiouli\n",
      "Counter  23 Ribeira Grande\n",
      "Counter  24 Ushuaia\n",
      "Counter  25 Altay\n",
      "Counter  26 Severo-Kuril'sk\n",
      "Counter  27 Leningradskiy\n",
      "Counter  28 Butaritari\n",
      "Counter  29 Goubellat\n",
      "Counter  30 Jamestown\n",
      "Counter  31 Mar del Plata\n",
      "Counter  32 Zyryanka\n",
      "Counter  33 Castro\n",
      "Counter  34 Ouésso\n",
      "Counter  35 Mataura\n",
      "City not found\n",
      "City not found\n",
      "Counter  38 Avarua\n",
      "Counter  39 Nizip\n",
      "City not found\n",
      "Counter  41 Chokurdakh\n",
      "Counter  42 Belyy Yar\n",
      "Counter  43 Jining\n",
      "Counter  44 Barrow\n",
      "Counter  45 Lebu\n",
      "Counter  46 Carnarvon\n",
      "Counter  47 Rio Grande\n",
      "Counter  48 Macusani\n",
      "City not found\n",
      "City not found\n",
      "Counter  51 Puerto Colombia\n",
      "Counter  52 Cape Town\n",
      "Counter  53 Kālīganj\n",
      "Counter  54 Vaini\n",
      "Counter  55 Longyearbyen\n",
      "Counter  56 Talnakh\n",
      "Counter  57 Albany\n",
      "Counter  58 Zunyi\n",
      "Counter  59 Saint Paul Harbor\n",
      "Counter  60 Ostrovnoy\n",
      "Counter  61 Huron\n",
      "Counter  62 Katsuura\n",
      "Counter  63 Bondoukou\n",
      "Counter  64 Comodoro Rivadavia\n",
      "Counter  65 Champerico\n",
      "Counter  66 Angoulême\n",
      "Counter  67 Minot\n",
      "City not found\n",
      "Counter  69 Taoudenni\n",
      "Counter  70 Airai\n",
      "Counter  71 Cazones de Herrera\n",
      "City not found\n",
      "Counter  73 Wagar\n",
      "Counter  74 Gamboma\n",
      "Counter  75 Busselton\n",
      "Counter  76 Saldanha\n",
      "Counter  77 Klaksvík\n",
      "Counter  78 Thaba-Tseka\n",
      "Counter  79 Buluang\n",
      "Counter  80 Hermanus\n",
      "Counter  81 Batemans Bay\n",
      "Counter  82 Baní\n",
      "Counter  83 Saint-Philippe\n",
      "Counter  84 Palu\n",
      "Counter  85 Abhā\n",
      "Counter  86 Ilulissat\n",
      "Counter  87 Bethel\n",
      "Counter  88 Atuona\n",
      "Counter  89 Berdigestyakh\n",
      "Counter  90 Camapuã\n",
      "Counter  91 Road Town\n",
      "Counter  92 Bāfq\n",
      "Counter  93 Amapá\n",
      "Counter  94 Bathsheba\n",
      "Counter  95 Dunedin\n",
      "Counter  96 Kristinehamn\n",
      "Counter  97 Nushki\n",
      "Counter  98 San Luis\n",
      "Counter  99 Bom Jardim\n",
      "Counter  100 Saint-Joseph\n",
      "Counter  101 Northam\n",
      "Counter  102 Bengkulu\n",
      "Counter  103 Noshiro\n",
      "Counter  104 Xining\n",
      "Counter  105 Varkala\n",
      "Counter  106 Isiolo\n",
      "Counter  107 Hilo\n",
      "City not found\n",
      "City not found\n",
      "Counter  110 Rauma\n",
      "Counter  111 Husavik\n",
      "Counter  112 Burnie\n",
      "Counter  113 Jiaozuo\n",
      "Counter  114 Okara\n",
      "Counter  115 Krasnaya Polyana\n",
      "Counter  116 Port Alfred\n",
      "City not found\n",
      "Counter  118 Vanimo\n",
      "Counter  119 Fortuna\n",
      "Counter  120 Itaituba\n",
      "City not found\n",
      "Counter  122 Matara\n",
      "Counter  123 Miguel Alves\n",
      "Counter  124 Ambanja\n",
      "Counter  125 Arrondissement de Saint-Malo\n",
      "Counter  126 Tasiilaq\n",
      "Counter  127 Nome\n",
      "City not found\n",
      "Counter  129 Hong Kong\n",
      "Counter  130 Saskylakh\n",
      "Counter  131 Hamilton\n",
      "Counter  132 Yenagoa\n",
      "Counter  133 Konëvo\n",
      "Counter  134 Esperance\n",
      "Counter  135 Balikpapan\n",
      "Counter  136 Buraidah\n",
      "Counter  137 Pericos\n",
      "Counter  138 Yantal'\n",
      "Counter  139 Kaabong\n",
      "Counter  140 Beïnamar\n",
      "Counter  141 Kumul\n",
      "Counter  142 Kalmunai\n",
      "Counter  143 Morro da Fumaça\n",
      "Counter  144 Coahuayana Viejo\n",
      "City not found\n",
      "Counter  146 Pisco\n",
      "Counter  147 Tailai\n",
      "Counter  148 East London\n",
      "Counter  149 Torbay\n",
      "Counter  150 Smithers\n",
      "City not found\n",
      "Counter  152 Ous\n",
      "Counter  153 Johnstown\n",
      "Counter  154 Port Blair\n",
      "Counter  155 Aljezur\n",
      "Counter  156 Constitución\n",
      "Counter  157 Suntar\n",
      "Counter  158 Santa Cruz\n",
      "Counter  159 Lagoa\n",
      "Counter  160 Potosí\n",
      "Counter  161 Yulara\n",
      "Counter  162 Bambous Virieux\n",
      "Counter  163 Shaping\n",
      "Counter  164 Shimoda\n",
      "Counter  165 Conde\n",
      "Counter  166 Paita\n",
      "Counter  167 Yellowknife\n",
      "Counter  168 Pryazha\n",
      "Counter  169 Ahipara\n",
      "Counter  170 Boyolangu\n",
      "Counter  171 George Town\n",
      "Counter  172 Hervey Bay\n",
      "Counter  173 Ballina\n",
      "Counter  174 Dikson\n",
      "Counter  175 Petropavlovsk-Kamchatskiy\n",
      "Counter  176 Shache\n",
      "Counter  177 Alyangula\n",
      "Counter  178 Hobart\n",
      "Counter  179 Craig\n",
      "Counter  180 Anadyr\n",
      "Counter  181 Paamiut\n",
      "Counter  182 Săcel\n",
      "Counter  183 Nouakchott\n",
      "Counter  184 Vardø\n",
      "Counter  185 Necochea\n",
      "Counter  186 Eureka\n",
      "Counter  187 Bar Harbor\n",
      "Counter  188 Cascas\n",
      "Counter  189 Tiksi\n",
      "Counter  190 Avera\n",
      "Counter  191 Lake City\n",
      "Counter  192 Codrington\n",
      "City not found\n",
      "Counter  194 Nadym\n",
      "Counter  195 Puerto Ayora\n",
      "Counter  196 Rawson\n",
      "City not found\n",
      "Counter  198 Lorengau\n",
      "Counter  199 Peace River\n",
      "City not found\n",
      "Counter  201 Sechura\n",
      "Counter  202 Hutchinson\n",
      "Counter  203 Alofi\n",
      "Counter  204 Parkes\n",
      "City not found\n",
      "Counter  206 Tuatapere\n",
      "Counter  207 Kavaratti\n",
      "Counter  208 Puerto Ayacucho\n",
      "Counter  209 Ancud\n",
      "Counter  210 Kaitangata\n",
      "Counter  211 Isangel\n",
      "Counter  212 Great Falls\n",
      "Counter  213 Ukiah\n",
      "Counter  214 Nova Vodolaha\n",
      "Counter  215 Bilibino\n",
      "Counter  216 Mizdah\n",
      "Counter  217 Aswān\n",
      "Counter  218 Hithadhoo\n",
      "Counter  219 Itupiranga\n",
      "Counter  220 Narsaq\n",
      "Counter  221 Siyabuswa\n",
      "Counter  222 São Filipe\n",
      "Counter  223 Ayr\n",
      "Counter  224 Nuuk\n",
      "Counter  225 Yārāda\n",
      "Counter  226 Upernavik\n",
      "Counter  227 Faya\n",
      "Counter  228 Qaanaaq\n",
      "Counter  229 Tual\n",
      "Counter  230 Vredendal\n",
      "Counter  231 Broome\n",
      "Counter  232 Osakarovka\n",
      "Counter  233 Bereda\n",
      "Counter  234 Pangnirtung\n",
      "Counter  235 Hanmer Springs\n",
      "City not found\n",
      "Counter  237 La Flèche\n",
      "Counter  238 Granadilla de Abona\n",
      "Counter  239 Dawei\n",
      "Counter  240 Lakatoro\n",
      "Counter  241 Cap Malheureux\n",
      "Counter  242 Clyde River\n",
      "Counter  243 Provideniya\n",
      "Counter  244 Portland\n",
      "Counter  245 Witney\n",
      "Counter  246 Ust-Maya\n",
      "City not found\n",
      "Counter  248 Tshikapa\n",
      "Counter  249 Naze\n",
      "Counter  250 Hasaki\n",
      "Counter  251 Ust'-Koksa\n",
      "Counter  252 Bilma\n",
      "Counter  253 Oranjemund\n",
      "Counter  254 Cidreira\n",
      "Counter  255 Taragual\n",
      "Counter  256 Muros\n",
      "Counter  257 Nyurba\n",
      "Counter  258 Ponta do Sol\n",
      "Counter  259 São José da Coroa Grande\n",
      "Counter  260 Balad\n",
      "Counter  261 Burns Lake\n",
      "Counter  262 Huilong\n",
      "Counter  263 Praia da Vitória\n",
      "Counter  264 Lambaréné\n",
      "Counter  265 Port Elizabeth\n",
      "Counter  266 Beyneu\n",
      "Counter  267 Taldan\n",
      "Counter  268 Sisophon\n",
      "Counter  269 Caravelas\n",
      "Counter  270 Swellendam\n",
      "Counter  271 Akçaabat\n",
      "Counter  272 Lüderitz\n",
      "Counter  273 Davila\n",
      "Counter  274 Plaeng Yao\n",
      "Counter  275 Kahului\n",
      "Counter  276 Pacific Grove\n",
      "Counter  277 Olafsvik\n",
      "City not found\n",
      "Counter  279 Mazara del Vallo\n",
      "Counter  280 Mel'nikovo\n",
      "Counter  281 Katherine\n",
      "Counter  282 Namatanai\n",
      "Counter  283 Laguna\n",
      "Counter  284 Hofn\n",
      "Counter  285 Spearfish\n",
      "Counter  286 Anchorage\n",
      "Counter  287 Ixtapa\n",
      "Counter  288 Salalah\n",
      "Counter  289 Saint George\n",
      "Counter  290 Grand Gaube\n",
      "Counter  291 Noril'sk\n",
      "Counter  292 Ust-Nera\n",
      "Counter  293 Punta Gorda\n",
      "Counter  294 Labuhan\n",
      "Counter  295 Horizontina\n",
      "Counter  296 Pundaguitan\n",
      "Counter  297 Linhares\n",
      "Counter  298 Lumphat\n",
      "Counter  299 Daru\n",
      "Counter  300 Tumsar\n",
      "Counter  301 Nagato\n",
      "City not found\n",
      "Counter  303 Meulaboh\n",
      "Counter  304 Ust'-Omchug\n",
      "Counter  305 Deputatsky\n",
      "Counter  306 Tessalit\n",
      "Counter  307 Minador do Negrão\n",
      "Counter  308 Khonsa\n",
      "Counter  309 Thurso\n",
      "Counter  310 Suruç\n",
      "Counter  311 Salto\n",
      "Counter  312 Severomuysk\n",
      "Counter  313 Mattawa\n",
      "Counter  314 Birobidzhan\n",
      "Counter  315 Örnsköldsvik\n",
      "Counter  316 Vostok\n",
      "Counter  317 Piaçabuçu\n",
      "Counter  318 Sakakah\n",
      "Counter  319 Jämsä\n",
      "Counter  320 Ergani\n",
      "Counter  321 Manacapuru\n",
      "Counter  322 Marabella\n",
      "City not found\n",
      "Counter  324 Harrisburg\n",
      "Counter  325 Lodwar\n",
      "Counter  326 Wana\n",
      "Counter  327 Kashgar\n",
      "Counter  328 Serra\n",
      "Counter  329 Goderich\n",
      "Counter  330 Mount Gambier\n",
      "Counter  331 Port Lincoln\n",
      "Counter  332 Henderson\n",
      "Counter  333 Nelson Bay\n",
      "Counter  334 Prieska\n",
      "Counter  335 Hoquiam\n",
      "City not found\n",
      "Counter  337 Mariinskiy Posad\n",
      "Counter  338 Tarn Taran\n",
      "Counter  339 Cabo San Lucas\n",
      "Counter  340 Poum\n",
      "Counter  341 Mtimbira\n",
      "Counter  342 Aklavik\n",
      "Counter  343 Morondava\n",
      "Counter  344 Martapura\n",
      "Counter  345 Tarauacá\n",
      "Counter  346 Norman Wells\n",
      "Counter  347 Teeli\n",
      "Counter  348 Porbandar\n",
      "City not found\n",
      "Counter  350 Cherskiy\n",
      "Counter  351 Gillette\n",
      "Counter  352 Coquimbo\n",
      "City not found\n",
      "Counter  354 Kloulklubed\n",
      "Counter  355 Camacha\n",
      "Counter  356 Boundiali\n",
      "Counter  357 Vila Franca do Campo\n",
      "Counter  358 Pangkalanbuun\n",
      "Counter  359 Fortuna Foothills\n",
      "Counter  360 Upata\n",
      "Counter  361 Srandakan\n",
      "Counter  362 Ati\n",
      "Counter  363 Tadine\n",
      "Counter  364 Vavuniya\n",
      "City not found\n",
      "Counter  366 Mocajuba\n",
      "Counter  367 Dawlatabad\n",
      "Counter  368 Lompoc\n",
      "Counter  369 Yerbogachën\n",
      "Counter  370 Omboué\n",
      "Counter  371 Shelburne\n",
      "Counter  372 Asău\n",
      "Counter  373 Arlit\n",
      "Counter  374 Mikhaylovka\n",
      "Counter  375 Nishihara\n",
      "Counter  376 Kapit\n",
      "Counter  377 Pevek\n",
      "Counter  378 Kadiri\n",
      "Counter  379 Chara\n",
      "Counter  380 College\n"
     ]
    },
    {
     "name": "stdout",
     "output_type": "stream",
     "text": [
      "Counter  381 Sambava\n",
      "Counter  382 Khor\n",
      "Counter  383 Velika Plana\n",
      "Counter  384 Ierissos\n",
      "Counter  385 Bandarbeyla\n",
      "Counter  386 Flinders\n",
      "Counter  387 Merauke\n",
      "Counter  388 Lavrentiya\n",
      "Counter  389 Mackay\n",
      "City not found\n",
      "Counter  391 Great Bend\n",
      "Counter  392 Zhuhai\n",
      "Counter  393 Nalvo\n",
      "Counter  394 Yigou\n",
      "Counter  395 Panacan\n",
      "Counter  396 Chu\n",
      "Counter  397 Aripuanã\n",
      "Counter  398 Shingū\n",
      "Counter  399 La Ronge\n",
      "Counter  400 Turan\n",
      "Counter  401 Berlevåg\n",
      "Counter  402 Ouro Preto do Oeste\n",
      "Counter  403 Vágur\n",
      "City not found\n",
      "Counter  405 Guasdualito\n",
      "Counter  406 Santa Cruz del Norte\n",
      "Counter  407 Liaocheng\n",
      "Counter  408 Dhidhdhoo\n",
      "Counter  409 Capinzal\n",
      "Counter  410 Gusau\n",
      "Counter  411 Palmer\n",
      "Counter  412 Biak\n",
      "Counter  413 Chui\n",
      "Counter  414 Itaperuçu\n",
      "Counter  415 Taltal\n",
      "Counter  416 Newport\n",
      "Counter  417 Selaphum\n",
      "Counter  418 Olavarría\n",
      "Counter  419 Himatnagar\n",
      "Counter  420 Kamphaeng Phet\n",
      "City not found\n",
      "City not found\n",
      "City not found\n",
      "Counter  424 Anloga\n",
      "Counter  425 Soyo\n",
      "Counter  426 Toro\n",
      "Counter  427 Half Moon Bay\n",
      "Counter  428 Madera\n",
      "Counter  429 Olinda\n",
      "Counter  430 Chimbote\n",
      "Counter  431 Gawler\n",
      "Counter  432 Murgab\n",
      "Counter  433 Den Helder\n",
      "Counter  434 Calbuco\n",
      "Counter  435 Sampit\n",
      "Counter  436 Santa Maria\n",
      "Counter  437 Marawi\n",
      "Counter  438 Belaya Gora\n",
      "Counter  439 Mogadishu\n",
      "Counter  440 Būlaevo\n",
      "Counter  441 Srednekolymsk\n",
      "Counter  442 Ishikari\n",
      "Counter  443 Hopkinsville\n",
      "Counter  444 Tekeli\n",
      "City not found\n",
      "City not found\n",
      "Counter  447 Tepechitlán\n",
      "Counter  448 Vohibinany\n",
      "Counter  449 Qui Nhon\n",
      "Counter  450 Morón\n",
      "Counter  451 Crib Point\n",
      "Counter  452 Ulaangom\n",
      "Counter  453 Staryy Nadym\n",
      "Counter  454 Dongkan\n",
      "Counter  455 San Antonio\n",
      "Counter  456 Tabas\n",
      "Counter  457 Samarai\n",
      "Counter  458 Madaoua\n",
      "Counter  459 Brigham City\n",
      "Counter  460 Kenai\n",
      "Counter  461 Khandyga\n",
      "Counter  462 Malim\n",
      "Counter  463 Sørland\n",
      "Counter  464 San Cristobal\n",
      "Counter  465 Rocha\n",
      "Counter  466 Novi Sanzhary\n",
      "Counter  467 Boda\n",
      "Counter  468 Wanlaweyn\n",
      "Counter  469 Pochutla\n",
      "Counter  470 Nioro\n",
      "Counter  471 Arraial do Cabo\n",
      "City not found\n",
      "Counter  473 Torit\n",
      "Counter  474 La Santisima Trinidad\n",
      "Counter  475 Iqaluit\n",
      "Counter  476 Yangi Marg`ilon\n",
      "Counter  477 Kyshtovka\n",
      "Counter  478 Mahébourg\n",
      "Counter  479 Maniitsoq\n",
      "Counter  480 Yeppoon\n",
      "City not found\n",
      "Counter  482 Kaeo\n",
      "Counter  483 Auki\n",
      "Counter  484 Erzin\n",
      "Counter  485 Årdalstangen\n",
      "Counter  486 Tefé\n",
      "Counter  487 Brae\n",
      "Counter  488 Guerrero Negro\n",
      "Counter  489 Acaraú\n",
      "Counter  490 Alta Floresta\n",
      "Counter  491 Oussouye\n",
      "Counter  492 Sitka\n",
      "Counter  493 Adrar\n",
      "Counter  494 Beringovskiy\n",
      "Counter  495 San Vicente\n",
      "Counter  496 Souillac\n",
      "Counter  497 Kruisfontein\n",
      "Counter  498 Maceió\n",
      "Counter  499 Angoche\n",
      "Counter  500 Tateyama\n",
      "Counter  501 Sahuaripa\n",
      "Counter  502 Kununurra\n",
      "Counter  503 Loandjili\n",
      "Counter  504 Kozhva\n",
      "Counter  505 Sistranda\n",
      "Counter  506 Kieta\n",
      "Counter  507 Mindelo\n",
      "Counter  508 Coari\n",
      "Counter  509 Qiongshan\n",
      "Counter  510 Dali\n",
      "Counter  511 Manresa\n",
      "City not found\n",
      "Counter  513 Poso\n",
      "Counter  514 Guider\n",
      "Counter  515 Hermiston\n",
      "Counter  516 Whitehorse\n",
      "Counter  517 Tahoua\n",
      "Counter  518 Stary Krym\n",
      "Counter  519 Korla\n",
      "Counter  520 Najrān\n",
      "Counter  521 Arrondissement de Dole\n",
      "Counter  522 Vestmannaeyjar\n",
      "Counter  523 Xuanzhou\n",
      "Counter  524 Novovelichkovskaya\n",
      "Counter  525 Los Llanos de Aridane\n",
      "Counter  526 Sukhobuzimskoye\n",
      "Counter  527 Sivas Province\n",
      "Counter  528 Fort Nelson\n",
      "Counter  529 Yarovoy\n",
      "Counter  530 Kungurtug\n",
      "Counter  531 Sāsni\n",
      "Counter  532 Kutum\n",
      "Counter  533 Lexington\n",
      "Counter  534 Sembakung\n",
      "Counter  535 Mossamedes\n",
      "Counter  536 Padang\n",
      "Counter  537 Kez\n",
      "Counter  538 Port Macquarie\n",
      "Counter  539 Fatezh\n",
      "Counter  540 Eenhana\n",
      "Counter  541 Pyu\n",
      "Counter  542 Taree\n",
      "Counter  543 Plettenberg Bay\n",
      "Counter  544 São Paulo de Olivença\n",
      "Counter  545 Bollnäs\n",
      "Counter  546 Daye\n",
      "Counter  547 Tautira\n",
      "Counter  548 Nouadhibou\n",
      "Counter  549 Novovarshavka\n",
      "Counter  550 Lunsar\n",
      "Counter  551 Kragerø\n",
      "Counter  552 ‘Āhuimanu\n",
      "Counter  553 Leh\n",
      "Counter  554 Pimentel\n",
      "Counter  555 Rosarito\n",
      "Counter  556 Boshnyakovo\n",
      "Counter  557 Linxia Chengguanzhen\n",
      "Counter  558 Assiut\n",
      "Counter  559 Henties Bay\n",
      "Counter  560 Agadez\n",
      "Counter  561 Valparaíso\n",
      "Counter  562 Ha Tinh\n",
      "Counter  563 Hambantota\n",
      "Counter  564 Fallon\n",
      "Counter  565 Altar\n",
      "Counter  566 Moree\n",
      "Counter  567 Sumter\n",
      "Counter  568 San Patricio\n",
      "Counter  569 Haines Junction\n",
      "Counter  570 Corpus Christi\n",
      "Counter  571 Kamenka\n",
      "Counter  572 Gijón\n",
      "Counter  573 Sandnessjøen\n",
      "Counter  574 Finschhafen\n",
      "City not found\n",
      "Counter  576 Sturgis\n",
      "Counter  577 Lata\n",
      "Counter  578 San Carlos del Zulia\n",
      "Counter  579 Ambunti\n",
      "Counter  580 Lyuban'\n",
      "Counter  581 Bozoum\n",
      "Counter  582 Panama City\n",
      "Counter  583 Abu Dhabi\n",
      "Counter  584 Mizhou\n",
      "Counter  585 Araouane\n",
      "Counter  586 Saint Anthony\n",
      "Counter  587 Solaro\n",
      "Counter  588 Bintulu\n",
      "Counter  589 Emmett\n",
      "Counter  590 Pemangkat\n",
      "Counter  591 Nuevo Progreso\n",
      "Counter  592 Cabra\n",
      "Counter  593 Kavieng\n",
      "Counter  594 Havøysund\n",
      "Counter  595 Port Augusta\n",
      "Counter  596 Kiryat Gat\n",
      "Counter  597 Calatayud\n",
      "Counter  598 Maïné Soroa\n",
      "Counter  599 Vao\n",
      "Counter  600 Kysyl-Syr\n",
      "Counter  601 Zabul Province\n",
      "Counter  602 Chornyanka\n",
      "Counter  603 Muzhi\n",
      "Counter  604 Tiznit Province\n",
      "Counter  605 Biloela\n",
      "Counter  606 Envira\n",
      "Counter  607 Gorontalo\n",
      "Counter  608 Vila Velha\n",
      "Counter  609 Talakan\n",
      "Counter  610 Zhezkazgan\n",
      "Counter  611 Oddur\n",
      "Counter  612 Listvyanka\n",
      "Counter  613 Vero Beach\n",
      "Counter  614 Kumluca\n",
      "Counter  615 Ferme-Neuve\n",
      "Counter  616 Evensk\n",
      "Counter  617 Ekhabi\n",
      "Counter  618 Sabha\n",
      "Counter  619 Nanhai\n",
      "Counter  620 Okhotsk\n",
      "Counter  621 Hailar\n",
      "City not found\n"
     ]
    }
   ],
   "source": [
    "city_info = []\n",
    "\n",
    "url = \"http://api.openweathermap.org/data/2.5/weather?\"\n",
    "counter = 0\n",
    "for city in cities: #[:10]:\n",
    "   \n",
    "    # Build query URL\n",
    "    query_url = url + \"appid=\" + weather_api_key + \"&q=\" + city\n",
    "    response = requests.get(query_url).json()\n",
    "    \n",
    "    counter=counter+1\n",
    "    #print(query_url)\n",
    "    \n",
    "    try:\n",
    "        city_num = counter\n",
    "        city = response[\"name\"]\n",
    "        country = response[\"sys\"][\"country\"]\n",
    "        lat = response[\"coord\"][\"lat\"]\n",
    "        lng = response[\"coord\"][\"lon\"]\n",
    "        date = response[\"dt\"]\n",
    "        maxtemp = response[\"main\"][\"temp_max\"]\n",
    "        windspeed = response[\"wind\"][\"speed\"]\n",
    "        humidity = response[\"main\"][\"humidity\"]\n",
    "        cloudiness = response[\"clouds\"][\"all\"]\n",
    "\n",
    "        city_info.append([city_num, city, country, date, humidity, cloudiness, lat, lng, maxtemp, windspeed])\n",
    "        print(f\"Counter  {counter} {city}\")\n",
    "        time.sleep(.2)\n",
    "    except:\n",
    "        print(\"City not found\")\n",
    "\n"
   ]
  },
  {
   "cell_type": "markdown",
   "metadata": {},
   "source": [
    "### Convert Raw Data to DataFrame\n",
    "* Export the city data into a .csv.\n",
    "* Display the DataFrame"
   ]
  },
  {
   "cell_type": "code",
   "execution_count": 7,
   "metadata": {},
   "outputs": [
    {
     "data": {
      "text/html": [
       "<div>\n",
       "<style scoped>\n",
       "    .dataframe tbody tr th:only-of-type {\n",
       "        vertical-align: middle;\n",
       "    }\n",
       "\n",
       "    .dataframe tbody tr th {\n",
       "        vertical-align: top;\n",
       "    }\n",
       "\n",
       "    .dataframe thead th {\n",
       "        text-align: right;\n",
       "    }\n",
       "</style>\n",
       "<table border=\"1\" class=\"dataframe\">\n",
       "  <thead>\n",
       "    <tr style=\"text-align: right;\">\n",
       "      <th></th>\n",
       "      <th>city_num</th>\n",
       "      <th>city</th>\n",
       "      <th>country</th>\n",
       "      <th>date</th>\n",
       "      <th>humidity</th>\n",
       "      <th>cloudiness</th>\n",
       "      <th>lat</th>\n",
       "      <th>long</th>\n",
       "      <th>maxtemp</th>\n",
       "      <th>windspeed</th>\n",
       "    </tr>\n",
       "  </thead>\n",
       "  <tbody>\n",
       "    <tr>\n",
       "      <th>0</th>\n",
       "      <td>1</td>\n",
       "      <td>São João da Barra</td>\n",
       "      <td>BR</td>\n",
       "      <td>1619458501</td>\n",
       "      <td>62</td>\n",
       "      <td>40</td>\n",
       "      <td>-21.6403</td>\n",
       "      <td>-41.0511</td>\n",
       "      <td>303.15</td>\n",
       "      <td>3.09</td>\n",
       "    </tr>\n",
       "    <tr>\n",
       "      <th>1</th>\n",
       "      <td>2</td>\n",
       "      <td>New Norfolk</td>\n",
       "      <td>AU</td>\n",
       "      <td>1619458501</td>\n",
       "      <td>77</td>\n",
       "      <td>15</td>\n",
       "      <td>-42.7826</td>\n",
       "      <td>147.0587</td>\n",
       "      <td>282.04</td>\n",
       "      <td>1.27</td>\n",
       "    </tr>\n",
       "    <tr>\n",
       "      <th>2</th>\n",
       "      <td>3</td>\n",
       "      <td>Dhenkānāl</td>\n",
       "      <td>IN</td>\n",
       "      <td>1619458502</td>\n",
       "      <td>89</td>\n",
       "      <td>40</td>\n",
       "      <td>20.6667</td>\n",
       "      <td>85.6000</td>\n",
       "      <td>301.15</td>\n",
       "      <td>4.63</td>\n",
       "    </tr>\n",
       "    <tr>\n",
       "      <th>3</th>\n",
       "      <td>4</td>\n",
       "      <td>Ormara</td>\n",
       "      <td>PK</td>\n",
       "      <td>1619458502</td>\n",
       "      <td>81</td>\n",
       "      <td>6</td>\n",
       "      <td>25.2088</td>\n",
       "      <td>64.6357</td>\n",
       "      <td>300.76</td>\n",
       "      <td>5.42</td>\n",
       "    </tr>\n",
       "    <tr>\n",
       "      <th>4</th>\n",
       "      <td>5</td>\n",
       "      <td>Buta</td>\n",
       "      <td>CD</td>\n",
       "      <td>1619458502</td>\n",
       "      <td>81</td>\n",
       "      <td>61</td>\n",
       "      <td>2.7858</td>\n",
       "      <td>24.7300</td>\n",
       "      <td>295.51</td>\n",
       "      <td>0.75</td>\n",
       "    </tr>\n",
       "    <tr>\n",
       "      <th>...</th>\n",
       "      <td>...</td>\n",
       "      <td>...</td>\n",
       "      <td>...</td>\n",
       "      <td>...</td>\n",
       "      <td>...</td>\n",
       "      <td>...</td>\n",
       "      <td>...</td>\n",
       "      <td>...</td>\n",
       "      <td>...</td>\n",
       "      <td>...</td>\n",
       "    </tr>\n",
       "    <tr>\n",
       "      <th>576</th>\n",
       "      <td>617</td>\n",
       "      <td>Ekhabi</td>\n",
       "      <td>RU</td>\n",
       "      <td>1619458765</td>\n",
       "      <td>86</td>\n",
       "      <td>10</td>\n",
       "      <td>53.5102</td>\n",
       "      <td>142.9671</td>\n",
       "      <td>268.31</td>\n",
       "      <td>3.53</td>\n",
       "    </tr>\n",
       "    <tr>\n",
       "      <th>577</th>\n",
       "      <td>618</td>\n",
       "      <td>Sabha</td>\n",
       "      <td>LY</td>\n",
       "      <td>1619458765</td>\n",
       "      <td>15</td>\n",
       "      <td>6</td>\n",
       "      <td>27.0377</td>\n",
       "      <td>14.4283</td>\n",
       "      <td>303.50</td>\n",
       "      <td>4.87</td>\n",
       "    </tr>\n",
       "    <tr>\n",
       "      <th>578</th>\n",
       "      <td>619</td>\n",
       "      <td>Nanhai</td>\n",
       "      <td>CN</td>\n",
       "      <td>1619458766</td>\n",
       "      <td>88</td>\n",
       "      <td>75</td>\n",
       "      <td>30.1282</td>\n",
       "      <td>111.7784</td>\n",
       "      <td>288.15</td>\n",
       "      <td>0.42</td>\n",
       "    </tr>\n",
       "    <tr>\n",
       "      <th>579</th>\n",
       "      <td>620</td>\n",
       "      <td>Okhotsk</td>\n",
       "      <td>RU</td>\n",
       "      <td>1619458766</td>\n",
       "      <td>84</td>\n",
       "      <td>64</td>\n",
       "      <td>59.3833</td>\n",
       "      <td>143.3000</td>\n",
       "      <td>265.65</td>\n",
       "      <td>1.47</td>\n",
       "    </tr>\n",
       "    <tr>\n",
       "      <th>580</th>\n",
       "      <td>621</td>\n",
       "      <td>Hailar</td>\n",
       "      <td>CN</td>\n",
       "      <td>1619458767</td>\n",
       "      <td>74</td>\n",
       "      <td>37</td>\n",
       "      <td>49.2000</td>\n",
       "      <td>119.7000</td>\n",
       "      <td>276.88</td>\n",
       "      <td>10.27</td>\n",
       "    </tr>\n",
       "  </tbody>\n",
       "</table>\n",
       "<p>581 rows × 10 columns</p>\n",
       "</div>"
      ],
      "text/plain": [
       "     city_num               city country        date  humidity  cloudiness  \\\n",
       "0           1  São João da Barra      BR  1619458501        62          40   \n",
       "1           2        New Norfolk      AU  1619458501        77          15   \n",
       "2           3          Dhenkānāl      IN  1619458502        89          40   \n",
       "3           4             Ormara      PK  1619458502        81           6   \n",
       "4           5               Buta      CD  1619458502        81          61   \n",
       "..        ...                ...     ...         ...       ...         ...   \n",
       "576       617             Ekhabi      RU  1619458765        86          10   \n",
       "577       618              Sabha      LY  1619458765        15           6   \n",
       "578       619             Nanhai      CN  1619458766        88          75   \n",
       "579       620            Okhotsk      RU  1619458766        84          64   \n",
       "580       621             Hailar      CN  1619458767        74          37   \n",
       "\n",
       "         lat      long  maxtemp  windspeed  \n",
       "0   -21.6403  -41.0511   303.15       3.09  \n",
       "1   -42.7826  147.0587   282.04       1.27  \n",
       "2    20.6667   85.6000   301.15       4.63  \n",
       "3    25.2088   64.6357   300.76       5.42  \n",
       "4     2.7858   24.7300   295.51       0.75  \n",
       "..       ...       ...      ...        ...  \n",
       "576  53.5102  142.9671   268.31       3.53  \n",
       "577  27.0377   14.4283   303.50       4.87  \n",
       "578  30.1282  111.7784   288.15       0.42  \n",
       "579  59.3833  143.3000   265.65       1.47  \n",
       "580  49.2000  119.7000   276.88      10.27  \n",
       "\n",
       "[581 rows x 10 columns]"
      ]
     },
     "execution_count": 7,
     "metadata": {},
     "output_type": "execute_result"
    }
   ],
   "source": [
    "#write df to file\n",
    "clean_city_data_df.to_csv('../Resources/city_output.csv')\n",
    "\n",
    "city_data_df = pd.DataFrame(city_info, columns=[\"city_num\",\"city\", \"country\", \"date\", \"humidity\", \"cloudiness\",\"lat\", \"long\", \"maxtemp\", \"windspeed\"])\n",
    "city_data_df"
   ]
  },
  {
   "cell_type": "markdown",
   "metadata": {},
   "source": [
    "## Inspect the data and remove the cities where the humidity > 100%.\n",
    "----\n",
    "Skip this step if there are no cities that have humidity > 100%. "
   ]
  },
  {
   "cell_type": "code",
   "execution_count": 27,
   "metadata": {},
   "outputs": [
    {
     "data": {
      "text/html": [
       "<div>\n",
       "<style scoped>\n",
       "    .dataframe tbody tr th:only-of-type {\n",
       "        vertical-align: middle;\n",
       "    }\n",
       "\n",
       "    .dataframe tbody tr th {\n",
       "        vertical-align: top;\n",
       "    }\n",
       "\n",
       "    .dataframe thead th {\n",
       "        text-align: right;\n",
       "    }\n",
       "</style>\n",
       "<table border=\"1\" class=\"dataframe\">\n",
       "  <thead>\n",
       "    <tr style=\"text-align: right;\">\n",
       "      <th></th>\n",
       "      <th>city_num</th>\n",
       "      <th>city</th>\n",
       "      <th>country</th>\n",
       "      <th>date</th>\n",
       "      <th>humidity</th>\n",
       "      <th>cloudiness</th>\n",
       "      <th>lat</th>\n",
       "      <th>long</th>\n",
       "      <th>maxtemp</th>\n",
       "      <th>windspeed</th>\n",
       "    </tr>\n",
       "  </thead>\n",
       "  <tbody>\n",
       "  </tbody>\n",
       "</table>\n",
       "</div>"
      ],
      "text/plain": [
       "Empty DataFrame\n",
       "Columns: [city_num, city, country, date, humidity, cloudiness, lat, long, maxtemp, windspeed]\n",
       "Index: []"
      ]
     },
     "execution_count": 27,
     "metadata": {},
     "output_type": "execute_result"
    }
   ],
   "source": [
    "hum_info = 0\n",
    "hum_info = city_data_df.loc[city_data_df.humidity > 100]\n",
    "hum_info"
   ]
  },
  {
   "cell_type": "code",
   "execution_count": 28,
   "metadata": {},
   "outputs": [
    {
     "data": {
      "text/html": [
       "<div>\n",
       "<style scoped>\n",
       "    .dataframe tbody tr th:only-of-type {\n",
       "        vertical-align: middle;\n",
       "    }\n",
       "\n",
       "    .dataframe tbody tr th {\n",
       "        vertical-align: top;\n",
       "    }\n",
       "\n",
       "    .dataframe thead th {\n",
       "        text-align: right;\n",
       "    }\n",
       "</style>\n",
       "<table border=\"1\" class=\"dataframe\">\n",
       "  <thead>\n",
       "    <tr style=\"text-align: right;\">\n",
       "      <th></th>\n",
       "      <th>city_num</th>\n",
       "      <th>city</th>\n",
       "      <th>country</th>\n",
       "      <th>date</th>\n",
       "      <th>humidity</th>\n",
       "      <th>cloudiness</th>\n",
       "      <th>lat</th>\n",
       "      <th>long</th>\n",
       "      <th>maxtemp</th>\n",
       "      <th>windspeed</th>\n",
       "    </tr>\n",
       "  </thead>\n",
       "  <tbody>\n",
       "  </tbody>\n",
       "</table>\n",
       "</div>"
      ],
      "text/plain": [
       "Empty DataFrame\n",
       "Columns: [city_num, city, country, date, humidity, cloudiness, lat, long, maxtemp, windspeed]\n",
       "Index: []"
      ]
     },
     "execution_count": 28,
     "metadata": {},
     "output_type": "execute_result"
    }
   ],
   "source": [
    "#  Get the indices of cities that have humidity over 100%.\n",
    "# none found\n",
    "if (len(hum_info) != 0):\n",
    "    print(hum_info.index)\n",
    "hum_info"
   ]
  },
  {
   "cell_type": "code",
   "execution_count": 29,
   "metadata": {},
   "outputs": [
    {
     "data": {
      "text/html": [
       "<div>\n",
       "<style scoped>\n",
       "    .dataframe tbody tr th:only-of-type {\n",
       "        vertical-align: middle;\n",
       "    }\n",
       "\n",
       "    .dataframe tbody tr th {\n",
       "        vertical-align: top;\n",
       "    }\n",
       "\n",
       "    .dataframe thead th {\n",
       "        text-align: right;\n",
       "    }\n",
       "</style>\n",
       "<table border=\"1\" class=\"dataframe\">\n",
       "  <thead>\n",
       "    <tr style=\"text-align: right;\">\n",
       "      <th></th>\n",
       "      <th>city_num</th>\n",
       "      <th>city</th>\n",
       "      <th>country</th>\n",
       "      <th>date</th>\n",
       "      <th>humidity</th>\n",
       "      <th>cloudiness</th>\n",
       "      <th>lat</th>\n",
       "      <th>long</th>\n",
       "      <th>maxtemp</th>\n",
       "      <th>windspeed</th>\n",
       "    </tr>\n",
       "  </thead>\n",
       "  <tbody>\n",
       "    <tr>\n",
       "      <th>0</th>\n",
       "      <td>1</td>\n",
       "      <td>São João da Barra</td>\n",
       "      <td>BR</td>\n",
       "      <td>1619458501</td>\n",
       "      <td>62</td>\n",
       "      <td>40</td>\n",
       "      <td>-21.6403</td>\n",
       "      <td>-41.0511</td>\n",
       "      <td>303.15</td>\n",
       "      <td>3.09</td>\n",
       "    </tr>\n",
       "    <tr>\n",
       "      <th>1</th>\n",
       "      <td>2</td>\n",
       "      <td>New Norfolk</td>\n",
       "      <td>AU</td>\n",
       "      <td>1619458501</td>\n",
       "      <td>77</td>\n",
       "      <td>15</td>\n",
       "      <td>-42.7826</td>\n",
       "      <td>147.0587</td>\n",
       "      <td>282.04</td>\n",
       "      <td>1.27</td>\n",
       "    </tr>\n",
       "    <tr>\n",
       "      <th>2</th>\n",
       "      <td>3</td>\n",
       "      <td>Dhenkānāl</td>\n",
       "      <td>IN</td>\n",
       "      <td>1619458502</td>\n",
       "      <td>89</td>\n",
       "      <td>40</td>\n",
       "      <td>20.6667</td>\n",
       "      <td>85.6000</td>\n",
       "      <td>301.15</td>\n",
       "      <td>4.63</td>\n",
       "    </tr>\n",
       "    <tr>\n",
       "      <th>3</th>\n",
       "      <td>4</td>\n",
       "      <td>Ormara</td>\n",
       "      <td>PK</td>\n",
       "      <td>1619458502</td>\n",
       "      <td>81</td>\n",
       "      <td>6</td>\n",
       "      <td>25.2088</td>\n",
       "      <td>64.6357</td>\n",
       "      <td>300.76</td>\n",
       "      <td>5.42</td>\n",
       "    </tr>\n",
       "    <tr>\n",
       "      <th>4</th>\n",
       "      <td>5</td>\n",
       "      <td>Buta</td>\n",
       "      <td>CD</td>\n",
       "      <td>1619458502</td>\n",
       "      <td>81</td>\n",
       "      <td>61</td>\n",
       "      <td>2.7858</td>\n",
       "      <td>24.7300</td>\n",
       "      <td>295.51</td>\n",
       "      <td>0.75</td>\n",
       "    </tr>\n",
       "    <tr>\n",
       "      <th>...</th>\n",
       "      <td>...</td>\n",
       "      <td>...</td>\n",
       "      <td>...</td>\n",
       "      <td>...</td>\n",
       "      <td>...</td>\n",
       "      <td>...</td>\n",
       "      <td>...</td>\n",
       "      <td>...</td>\n",
       "      <td>...</td>\n",
       "      <td>...</td>\n",
       "    </tr>\n",
       "    <tr>\n",
       "      <th>576</th>\n",
       "      <td>617</td>\n",
       "      <td>Ekhabi</td>\n",
       "      <td>RU</td>\n",
       "      <td>1619458765</td>\n",
       "      <td>86</td>\n",
       "      <td>10</td>\n",
       "      <td>53.5102</td>\n",
       "      <td>142.9671</td>\n",
       "      <td>268.31</td>\n",
       "      <td>3.53</td>\n",
       "    </tr>\n",
       "    <tr>\n",
       "      <th>577</th>\n",
       "      <td>618</td>\n",
       "      <td>Sabha</td>\n",
       "      <td>LY</td>\n",
       "      <td>1619458765</td>\n",
       "      <td>15</td>\n",
       "      <td>6</td>\n",
       "      <td>27.0377</td>\n",
       "      <td>14.4283</td>\n",
       "      <td>303.50</td>\n",
       "      <td>4.87</td>\n",
       "    </tr>\n",
       "    <tr>\n",
       "      <th>578</th>\n",
       "      <td>619</td>\n",
       "      <td>Nanhai</td>\n",
       "      <td>CN</td>\n",
       "      <td>1619458766</td>\n",
       "      <td>88</td>\n",
       "      <td>75</td>\n",
       "      <td>30.1282</td>\n",
       "      <td>111.7784</td>\n",
       "      <td>288.15</td>\n",
       "      <td>0.42</td>\n",
       "    </tr>\n",
       "    <tr>\n",
       "      <th>579</th>\n",
       "      <td>620</td>\n",
       "      <td>Okhotsk</td>\n",
       "      <td>RU</td>\n",
       "      <td>1619458766</td>\n",
       "      <td>84</td>\n",
       "      <td>64</td>\n",
       "      <td>59.3833</td>\n",
       "      <td>143.3000</td>\n",
       "      <td>265.65</td>\n",
       "      <td>1.47</td>\n",
       "    </tr>\n",
       "    <tr>\n",
       "      <th>580</th>\n",
       "      <td>621</td>\n",
       "      <td>Hailar</td>\n",
       "      <td>CN</td>\n",
       "      <td>1619458767</td>\n",
       "      <td>74</td>\n",
       "      <td>37</td>\n",
       "      <td>49.2000</td>\n",
       "      <td>119.7000</td>\n",
       "      <td>276.88</td>\n",
       "      <td>10.27</td>\n",
       "    </tr>\n",
       "  </tbody>\n",
       "</table>\n",
       "<p>581 rows × 10 columns</p>\n",
       "</div>"
      ],
      "text/plain": [
       "     city_num               city country        date  humidity  cloudiness  \\\n",
       "0           1  São João da Barra      BR  1619458501        62          40   \n",
       "1           2        New Norfolk      AU  1619458501        77          15   \n",
       "2           3          Dhenkānāl      IN  1619458502        89          40   \n",
       "3           4             Ormara      PK  1619458502        81           6   \n",
       "4           5               Buta      CD  1619458502        81          61   \n",
       "..        ...                ...     ...         ...       ...         ...   \n",
       "576       617             Ekhabi      RU  1619458765        86          10   \n",
       "577       618              Sabha      LY  1619458765        15           6   \n",
       "578       619             Nanhai      CN  1619458766        88          75   \n",
       "579       620            Okhotsk      RU  1619458766        84          64   \n",
       "580       621             Hailar      CN  1619458767        74          37   \n",
       "\n",
       "         lat      long  maxtemp  windspeed  \n",
       "0   -21.6403  -41.0511   303.15       3.09  \n",
       "1   -42.7826  147.0587   282.04       1.27  \n",
       "2    20.6667   85.6000   301.15       4.63  \n",
       "3    25.2088   64.6357   300.76       5.42  \n",
       "4     2.7858   24.7300   295.51       0.75  \n",
       "..       ...       ...      ...        ...  \n",
       "576  53.5102  142.9671   268.31       3.53  \n",
       "577  27.0377   14.4283   303.50       4.87  \n",
       "578  30.1282  111.7784   288.15       0.42  \n",
       "579  59.3833  143.3000   265.65       1.47  \n",
       "580  49.2000  119.7000   276.88      10.27  \n",
       "\n",
       "[581 rows x 10 columns]"
      ]
     },
     "execution_count": 29,
     "metadata": {},
     "output_type": "execute_result"
    }
   ],
   "source": [
    "# Make a new DataFrame equal to the city data to drop all humidity outliers by index.\n",
    "# Passing \"inplace=False\" will make a copy of the city_data DataFrame, which we call \"clean_city_data\".\n",
    "if (len(hum_info) != 0):\n",
    "   # for x in hum_info iterows:\n",
    "   # for index, row in hum_info.iterrows():\n",
    "        clean_city_data_df = city_data_df.drop(hum_info.index)\n",
    "       # city_data_df.loc[index, row]\n",
    "else:\n",
    "    clean_city_data_df = city_data_df.copy()\n",
    "clean_city_data_df"
   ]
  },
  {
   "cell_type": "markdown",
   "metadata": {},
   "source": [
    "## Plotting the Data\n",
    "* Use proper labeling of the plots using plot titles (including date of analysis) and axes labels.\n",
    "* Save the plotted figures as .pngs."
   ]
  },
  {
   "cell_type": "code",
   "execution_count": 11,
   "metadata": {
    "scrolled": false
   },
   "outputs": [
    {
     "data": {
      "image/png": "[encoded data removed]",
      "text/plain": [
       "<Figure size 432x288 with 1 Axes>"
      ]
     },
     "metadata": {
      "needs_background": "light"
     },
     "output_type": "display_data"
    }
   ],
   "source": [
    "# Generate a scatter plot of city data\n",
    "x_values = clean_city_data_df['city_num']\n",
    "y_values = clean_city_data_df['humidity']\n",
    "\n",
    "plt.scatter( x_values, y_values, marker=\"*\", facecolors=\"red\", edgecolors=\"black\")\n",
    "plt.xlabel('city') \n",
    "plt.ylabel('humidity')\n",
    "plt.title( \"City Humidity\")\n",
    "plt.savefig(\"../images/city_humidity.png\")\n",
    "plt.show()\n"
   ]
  },
  {
   "cell_type": "markdown",
   "metadata": {},
   "source": [
    "### The plot above shows the humidity in a the cities within the latitudes of 0 to less than 100."
   ]
  },
  {
   "cell_type": "markdown",
   "metadata": {},
   "source": [
    "## Latitude vs. Temperature Plot"
   ]
  },
  {
   "cell_type": "code",
   "execution_count": 12,
   "metadata": {
    "scrolled": true
   },
   "outputs": [
    {
     "data": {
      "image/png": "[encoded data removed]",
      "text/plain": [
       "<Figure size 432x288 with 1 Axes>"
      ]
     },
     "metadata": {
      "needs_background": "light"
     },
     "output_type": "display_data"
    }
   ],
   "source": [
    "\n",
    "# Generate a scatter plot of city data\n",
    "x_values = clean_city_data_df['lat']\n",
    "y_values = clean_city_data_df['maxtemp']\n",
    "\n",
    "plt.scatter(x_values, y_values, marker=\"o\", facecolors=\"red\", edgecolors=\"black\")\n",
    "plt.xlabel('Latitude')\n",
    "plt.ylabel('max temperature')\n",
    "plt.savefig(\"../images/temp_lat.png\")\n",
    "plt.show()\n"
   ]
  },
  {
   "cell_type": "markdown",
   "metadata": {},
   "source": [
    "### The plot above shows the temperatures in a the cities with max temperature spikes between 290 and 310."
   ]
  },
  {
   "cell_type": "markdown",
   "metadata": {},
   "source": [
    "## Latitude vs. Humidity Plot"
   ]
  },
  {
   "cell_type": "code",
   "execution_count": 13,
   "metadata": {},
   "outputs": [
    {
     "data": {
      "image/png": "[encoded data removed]",
      "text/plain": [
       "<Figure size 432x288 with 1 Axes>"
      ]
     },
     "metadata": {
      "needs_background": "light"
     },
     "output_type": "display_data"
    }
   ],
   "source": [
    "\n",
    "# Generate a scatter plot of city data\n",
    "x_values = clean_city_data_df['lat']\n",
    "y_values = clean_city_data_df['humidity']\n",
    "\n",
    "plt.scatter(x_values, y_values)\n",
    "plt.xlabel('lat')\n",
    "plt.ylabel('humidity')\n",
    "plt.savefig(\"../images/humidity_lat.png\")\n",
    "plt.show()\n"
   ]
  },
  {
   "cell_type": "markdown",
   "metadata": {},
   "source": [
    "### The plot above shows the humidity in a the cities within the latitudes of 40 and 80."
   ]
  },
  {
   "cell_type": "markdown",
   "metadata": {},
   "source": [
    "## Latitude vs. Cloudiness Plot"
   ]
  },
  {
   "cell_type": "code",
   "execution_count": 14,
   "metadata": {},
   "outputs": [
    {
     "data": {
      "image/png": "[encoded data removed]",
      "text/plain": [
       "<Figure size 432x288 with 1 Axes>"
      ]
     },
     "metadata": {
      "needs_background": "light"
     },
     "output_type": "display_data"
    }
   ],
   "source": [
    "\n",
    "# Generate a scatter plot of city data\n",
    "x_values = clean_city_data_df['lat']\n",
    "y_values = clean_city_data_df['cloudiness']\n",
    "\n",
    "plt.scatter(x_values, y_values)\n",
    "plt.xlabel('lat')\n",
    "plt.ylabel('cloudiness')\n",
    "plt.savefig(\"../images/cloud_lat.png\")\n",
    "\n",
    "plt.show()\n"
   ]
  },
  {
   "cell_type": "markdown",
   "metadata": {},
   "source": [
    "### The plot above shows the cloudiness in a the cities mostly scattered within the latitudes of 0 to less than 100."
   ]
  },
  {
   "cell_type": "markdown",
   "metadata": {},
   "source": [
    "## Latitude vs. Wind Speed Plot"
   ]
  },
  {
   "cell_type": "code",
   "execution_count": 15,
   "metadata": {},
   "outputs": [
    {
     "data": {
      "image/png": "[encoded data removed]",
      "text/plain": [
       "<Figure size 432x288 with 1 Axes>"
      ]
     },
     "metadata": {
      "needs_background": "light"
     },
     "output_type": "display_data"
    }
   ],
   "source": [
    "\n",
    "# Generate a scatter plot of city data\n",
    "x_values = clean_city_data_df['lat']\n",
    "y_values = clean_city_data_df['windspeed']\n",
    "\n",
    "plt.scatter(x_values, y_values)\n",
    "plt.xlabel('lat')\n",
    "plt.ylabel('windspeed')\n",
    "plt.savefig(\"../images/windspeed_lat.png\")\n",
    "plt.show()\n"
   ]
  },
  {
   "cell_type": "markdown",
   "metadata": {},
   "source": [
    "### The plot above shows the wind speed in cities mostly within the latitudes of -40 to 60."
   ]
  },
  {
   "cell_type": "markdown",
   "metadata": {},
   "source": [
    "## Linear Regression"
   ]
  },
  {
   "cell_type": "code",
   "execution_count": 16,
   "metadata": {},
   "outputs": [
    {
     "data": {
      "image/png": "[encoded data removed]",
      "text/plain": [
       "<Figure size 432x288 with 1 Axes>"
      ]
     },
     "metadata": {
      "needs_background": "light"
     },
     "output_type": "display_data"
    }
   ],
   "source": [
    "# plt.figure(figsize=(20,3))\n",
    "# Generate a scatter plot of city data\n",
    "\n",
    "x_values = clean_city_data_df['lat']\n",
    "y_values = clean_city_data_df['windspeed']\n",
    "\n",
    "(slope, intercept, rvalue, pvalue, stderr) = linregress(x_values, y_values)\n",
    "regress_values = x_values * slope + intercept\n",
    "line_eq = \"y = \" + str(round(slope,2)) + \"x + \" + str(round(intercept,2))\n",
    "plt.scatter(x_values, y_values)\n",
    "plt.plot(x_values,regress_values,\"r-\")\n",
    "plt.annotate(line_eq,(6,10),fontsize=15,color=\"red\")\n",
    "plt.xlabel('latitude')\n",
    "plt.ylabel('windspeed')\n",
    "plt.savefig(\"../images/windspeed_lat_linear.png\")\n",
    "plt.show()\n"
   ]
  },
  {
   "cell_type": "markdown",
   "metadata": {},
   "source": [
    "### The plot above shows the average wind speed in a the cities within the latitudes of -40 to less than 70."
   ]
  },
  {
   "cell_type": "markdown",
   "metadata": {},
   "source": [
    "####  Northern Hemisphere - Max Temp vs. Latitude Linear Regression"
   ]
  },
  {
   "cell_type": "code",
   "execution_count": 17,
   "metadata": {
    "scrolled": true
   },
   "outputs": [
    {
     "data": {
      "image/png": "[encoded data removed]",
      "text/plain": [
       "<Figure size 432x288 with 1 Axes>"
      ]
     },
     "metadata": {
      "needs_background": "light"
     },
     "output_type": "display_data"
    }
   ],
   "source": [
    "x_values = clean_city_data_df['lat']\n",
    "for x in x_values:\n",
    "    if x >= 0:\n",
    "        y_values = clean_city_data_df['maxtemp']\n",
    "\n",
    "        (slope, intercept, rvalue, pvalue, stderr) = linregress(x_values, y_values)\n",
    "        regress_values = x_values * slope + intercept\n",
    "        line_eq = \"y = \" + str(round(slope,2)) + \"x + \" + str(round(intercept,2))\n",
    "        plt.scatter(x_values, y_values)\n",
    "        plt.plot(x_values,regress_values,\"r-\")\n",
    "        plt.annotate(line_eq,(6,10),fontsize=15,color=\"red\")\n",
    "        plt.xlabel('latitude')\n",
    "       \n",
    "\n",
    "plt.ylabel('Max Temperature')\n",
    "plt.title(\"Northern Hemisphere - Max Temp vs. Latitude Linear Regression\")\n",
    "plt.savefig(\"../images/maxtemp_lat_linear_N.png\")\n",
    "plt.show()"
   ]
  },
  {
   "cell_type": "markdown",
   "metadata": {},
   "source": [
    "####  Southern Hemisphere - Max Temp vs. Latitude Linear Regression"
   ]
  },
  {
   "cell_type": "code",
   "execution_count": 18,
   "metadata": {},
   "outputs": [
    {
     "data": {
      "image/png": "[encoded data removed]",
      "text/plain": [
       "<Figure size 432x288 with 1 Axes>"
      ]
     },
     "metadata": {
      "needs_background": "light"
     },
     "output_type": "display_data"
    }
   ],
   "source": [
    "x_values = clean_city_data_df['lat']\n",
    "y_values = clean_city_data_df['maxtemp']\n",
    "\n",
    "# south_x = []\n",
    "# south_y = []\n",
    "\n",
    "#print(df[df[‘Name’]==’Donna’].index.values)\n",
    "#index = 0\n",
    "for x in x_values:\n",
    "    if x < 0:\n",
    "        #south_x.append(x)\n",
    "        #find the location of x and print y value at that location\n",
    "        #y = clean_city_data[clean_city_data['lat']==x].index.values \n",
    "        #south_y.append(y_values_1[y])\n",
    "\n",
    "        # x_values = south_x\n",
    "        # y_values = south_y\n",
    "\n",
    "        (slope, intercept, rvalue, pvalue, stderr) = linregress(x_values, y_values)\n",
    "        regress_values = x_values * slope + intercept\n",
    "        line_eq = \"y = \" + str(round(slope,2)) + \"x + \" + str(round(intercept,2))\n",
    "        plt.scatter(x_values, y_values)\n",
    "        plt.plot(x_values,regress_values,\"r-\")\n",
    "        plt.annotate(line_eq,(6,10),fontsize=15,color=\"red\")\n",
    "        \n",
    "plt.xlabel('latitude')\n",
    "\n",
    "plt.ylabel('Max Temp')\n",
    "plt.title(\"Southern Hemisphere - Max Temp vs. Latitude Linear Regression\")\n",
    "plt.savefig(\"../images/maxtemp_lat_linear_S.png\")\n",
    "plt.show()"
   ]
  },
  {
   "cell_type": "markdown",
   "metadata": {},
   "source": [
    "### The plot above shows the max temperatures are around  latitudes of 0 to less than 40 also showing a negative slope as latitude increases. Shows the same for both hemisphere."
   ]
  },
  {
   "cell_type": "markdown",
   "metadata": {},
   "source": [
    "####  Northern Hemisphere - Humidity (%) vs. Latitude Linear Regression"
   ]
  },
  {
   "cell_type": "code",
   "execution_count": 19,
   "metadata": {},
   "outputs": [
    {
     "data": {
      "image/png": "[encoded data removed]",
      "text/plain": [
       "<Figure size 432x288 with 1 Axes>"
      ]
     },
     "metadata": {
      "needs_background": "light"
     },
     "output_type": "display_data"
    }
   ],
   "source": [
    "x_values = clean_city_data_df['lat']\n",
    "x_values\n",
    "\n",
    "for x in x_values:\n",
    "    if x >= 0:\n",
    "        y_values = clean_city_data_df['humidity']\n",
    "\n",
    "        (slope, intercept, rvalue, pvalue, stderr) = linregress(x_values, y_values)\n",
    "        regress_values = x_values * slope + intercept\n",
    "        line_eq = \"y = \" + str(round(slope,2)) + \"x + \" + str(round(intercept,2))\n",
    "        plt.scatter(x_values, y_values)\n",
    "        plt.plot(x_values,regress_values,\"r-\")\n",
    "        plt.annotate(line_eq,(6,10),fontsize=15,color=\"red\")\n",
    "        plt.xlabel('latitude')\n",
    "\n",
    "plt.ylabel('lat')\n",
    "plt.title(\"Northern Hemisphere - Max Temp vs. Latitude Linear Regression\")\n",
    "plt.savefig(\"../images/humidity_lat_linear_N.png\")\n",
    "plt.show()\n"
   ]
  },
  {
   "cell_type": "markdown",
   "metadata": {},
   "source": [
    "####  Southern Hemisphere - Humidity (%) vs. Latitude Linear Regression"
   ]
  },
  {
   "cell_type": "code",
   "execution_count": 20,
   "metadata": {},
   "outputs": [
    {
     "data": {
      "image/png": "[encoded data removed]",
      "text/plain": [
       "<Figure size 432x288 with 1 Axes>"
      ]
     },
     "metadata": {
      "needs_background": "light"
     },
     "output_type": "display_data"
    }
   ],
   "source": [
    "x_values = clean_city_data_df['lat']\n",
    "x_values\n",
    "\n",
    "for x in x_values:\n",
    "    if x < 0:\n",
    "        y_values = clean_city_data_df['humidity']\n",
    "\n",
    "        (slope, intercept, rvalue, pvalue, stderr) = linregress(x_values, y_values)\n",
    "        regress_values = x_values * slope + intercept\n",
    "        line_eq = \"y = \" + str(round(slope,2)) + \"x + \" + str(round(intercept,2))\n",
    "        plt.scatter(x_values, y_values)\n",
    "        plt.plot(x_values,regress_values,\"r-\")\n",
    "        plt.annotate(line_eq,(6,10),fontsize=15,color=\"red\")\n",
    "        plt.xlabel('latitude')\n",
    "\n",
    "plt.ylabel('lat')\n",
    "plt.title(\"Northern Hemisphere - Humidity  vs. Latitude Linear Regression\")\n",
    "plt.savefig(\"../images/humidity_lat_linear_N.png\")\n",
    "plt.show()"
   ]
  },
  {
   "cell_type": "markdown",
   "metadata": {},
   "source": [
    "### The plot above shows the humidity are around  latitudes of -40 to less than 60 also showing a negative slope as latitude increases. Shows the same for both hemisphere. A slight drop in slope as latitude increases."
   ]
  },
  {
   "cell_type": "markdown",
   "metadata": {},
   "source": [
    "####  Northern Hemisphere - Cloudiness (%) vs. Latitude Linear Regression"
   ]
  },
  {
   "cell_type": "code",
   "execution_count": 21,
   "metadata": {},
   "outputs": [
    {
     "data": {
      "image/png": "[encoded data removed]",
      "text/plain": [
       "<Figure size 432x288 with 1 Axes>"
      ]
     },
     "metadata": {
      "needs_background": "light"
     },
     "output_type": "display_data"
    }
   ],
   "source": [
    "x_values = clean_city_data_df['lat']\n",
    "x_values\n",
    "\n",
    "for x in x_values:\n",
    "    if x >= 0:\n",
    "        y_values = clean_city_data_df['cloudiness']\n",
    "\n",
    "        (slope, intercept, rvalue, pvalue, stderr) = linregress(x_values, y_values)\n",
    "        regress_values = x_values * slope + intercept\n",
    "        line_eq = \"y = \" + str(round(slope,2)) + \"x + \" + str(round(intercept,2))\n",
    "        plt.scatter(x_values, y_values)\n",
    "        plt.plot(x_values,regress_values,\"r-\")\n",
    "        plt.annotate(line_eq,(6,10),fontsize=15,color=\"red\")\n",
    "        plt.xlabel('latitude')\n",
    "\n",
    "plt.ylabel('lat')\n",
    "plt.title(\"Northern Hemisphere - Cloudiness vs. Latitude Linear Regression\")\n",
    "plt.savefig(\"../images/maxtemp_lat_linear_N.png\")\n",
    "plt.show()\n"
   ]
  },
  {
   "cell_type": "markdown",
   "metadata": {},
   "source": [
    "####  Southern Hemisphere - Cloudiness (%) vs. Latitude Linear Regression"
   ]
  },
  {
   "cell_type": "code",
   "execution_count": 22,
   "metadata": {},
   "outputs": [
    {
     "data": {
      "image/png": "[encoded data removed]",
      "text/plain": [
       "<Figure size 432x288 with 1 Axes>"
      ]
     },
     "metadata": {
      "needs_background": "light"
     },
     "output_type": "display_data"
    }
   ],
   "source": [
    "x_values = clean_city_data_df['lat']\n",
    "x_values\n",
    "\n",
    "for x in x_values:\n",
    "    if x < 0:\n",
    "        y_values = clean_city_data_df['cloudiness']\n",
    "\n",
    "        (slope, intercept, rvalue, pvalue, stderr) = linregress(x_values, y_values)\n",
    "        regress_values = x_values * slope + intercept\n",
    "        line_eq = \"y = \" + str(round(slope,2)) + \"x + \" + str(round(intercept,2))\n",
    "        plt.scatter(x_values, y_values)\n",
    "        plt.plot(x_values,regress_values,\"r-\")\n",
    "        plt.annotate(line_eq,(6,10),fontsize=15,color=\"red\")\n",
    "        plt.xlabel('latitude')\n",
    "\n",
    "plt.ylabel('lat')\n",
    "plt.title(\"Southern Hemisphere - Cloudiness vs. Latitude Linear Regression\")\n",
    "plt.savefig(\"../images/cloudiness_lat_linear_S.png\")\n",
    "plt.show()\n"
   ]
  },
  {
   "cell_type": "markdown",
   "metadata": {},
   "source": [
    "### The plot above shows the average cloudiness around  latitudes of -40 to less than 80 also showing a slight positive slope as latitude increases. Shows the same for both hemisphere."
   ]
  },
  {
   "cell_type": "markdown",
   "metadata": {},
   "source": [
    "####  Northern Hemisphere - Wind Speed (mph) vs. Latitude Linear Regression"
   ]
  },
  {
   "cell_type": "code",
   "execution_count": 33,
   "metadata": {},
   "outputs": [
    {
     "data": {
      "image/png": "[encoded data removed]",
      "text/plain": [
       "<Figure size 432x288 with 1 Axes>"
      ]
     },
     "metadata": {
      "needs_background": "light"
     },
     "output_type": "display_data"
    }
   ],
   "source": [
    "x_values = clean_city_data_df['lat']\n",
    "x_values\n",
    "\n",
    "for x in x_values:\n",
    "    if x >= 0:\n",
    "        y_values = clean_city_data_df['windspeed']\n",
    "\n",
    "        (slope, intercept, rvalue, pvalue, stderr) = linregress(x_values, y_values)\n",
    "        regress_values = x_values * slope + intercept\n",
    "        line_eq = \"y = \" + str(round(slope,2)) + \"x + \" + str(round(intercept,2))\n",
    "        plt.scatter(x_values, y_values)\n",
    "        plt.plot(x_values,regress_values,\"r-\")\n",
    "        plt.annotate(line_eq,(6,10),fontsize=15,color=\"red\")\n",
    "        plt.xlabel('latitude')\n",
    "\n",
    "plt.ylabel('wind speed')\n",
    "plt.title(\"Northern Hemisphere - Wind Speed vs. Latitude Linear Regression\")\n",
    "plt.savefig(\"../images/windspeed_lat_linear_N.png\")\n",
    "plt.show()\n"
   ]
  },
  {
   "cell_type": "markdown",
   "metadata": {},
   "source": [
    "####  Southern Hemisphere - Wind Speed (mph) vs. Latitude Linear Regression"
   ]
  },
  {
   "cell_type": "code",
   "execution_count": 32,
   "metadata": {},
   "outputs": [
    {
     "data": {
      "image/png": "[encoded data removed]",
      "text/plain": [
       "<Figure size 432x288 with 1 Axes>"
      ]
     },
     "metadata": {
      "needs_background": "light"
     },
     "output_type": "display_data"
    }
   ],
   "source": [
    "x_values = clean_city_data_df['lat']\n",
    "\n",
    "\n",
    "for x in x_values:\n",
    "    if x < 0:\n",
    "        y_values = clean_city_data_df['windspeed']\n",
    "\n",
    "        (slope, intercept, rvalue, pvalue, stderr) = linregress(x_values, y_values)\n",
    "        regress_values = x_values * slope + intercept\n",
    "        line_eq = \"y = \" + str(round(slope,2)) + \"x + \" + str(round(intercept,2))\n",
    "        plt.scatter(x_values, y_values)\n",
    "        plt.plot(x_values,regress_values,\"r-\")\n",
    "        plt.annotate(line_eq,(6,10),fontsize=15,color=\"red\")\n",
    "        plt.xlabel('latitude')\n",
    "\n",
    "plt.ylabel('wind speed')\n",
    "plt.title(\"Southern Hemisphere - Max Temp vs. Latitude Linear Regression\")\n",
    "plt.savefig(\"../images/windspeed_lat_linear_S.png\")\n",
    "plt.show()\n"
   ]
  },
  {
   "cell_type": "code",
   "execution_count": 25,
   "metadata": {},
   "outputs": [],
   "source": [
    "My Observation is that the avg wind speed value lies in the area between 40 latititue and 60 latitude. The slope is almost flat. Both hemisphere look alike."
   ]
  }
 ],
 "metadata": {
  "anaconda-cloud": {},
  "kernel_info": {
   "name": "python3"
  },
  "kernelspec": {
   "display_name": "Python 3",
   "language": "python",
   "name": "python3"
  },
  "language_info": {
   "codemirror_mode": {
    "name": "ipython",
    "version": 3
   },
   "file_extension": ".py",
   "mimetype": "text/x-python",
   "name": "python",
   "nbconvert_exporter": "python",
   "pygments_lexer": "ipython3",
   "version": "3.6.10"
  },
  "latex_envs": {
   "LaTeX_envs_menu_present": true,
   "autoclose": false,
   "autocomplete": true,
   "bibliofile": "biblio.bib",
   "cite_by": "apalike",
   "current_citInitial": 1,
   "eqLabelWithNumbers": true,
   "eqNumInitial": 1,
   "hotkeys": {
    "equation": "Ctrl-E",
    "itemize": "Ctrl-I"
   },
   "labels_anchors": false,
   "latex_user_defs": false,
   "report_style_numbering": false,
   "user_envs_cfg": false
  },
  "nteract": {
   "version": "0.12.3"
  }
 },
 "nbformat": 4,
 "nbformat_minor": 2
}
